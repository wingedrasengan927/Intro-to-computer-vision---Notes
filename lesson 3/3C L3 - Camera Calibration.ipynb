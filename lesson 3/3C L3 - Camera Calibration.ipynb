{
 "cells": [
  {
   "cell_type": "markdown",
   "id": "6278dead-2d0c-4c7b-be5b-3ebd7280918a",
   "metadata": {},
   "source": [
    "## 3C - L3 Camera Calibration"
   ]
  },
  {
   "cell_type": "code",
   "execution_count": 1,
   "id": "f54333c1-0083-4d0d-96bf-9b645d4f7237",
   "metadata": {},
   "outputs": [],
   "source": [
    "%matplotlib widget\n",
    "\n",
    "import numpy as np\n",
    "import matplotlib.pyplot as plt\n",
    "import pytransform3d.rotations as pr\n",
    "from pytransform3d.plot_utils import plot_vector\n",
    "\n",
    "np.random.seed(42)"
   ]
  },
  {
   "cell_type": "markdown",
   "id": "c9b528c0-9586-42a7-8236-f2b337b344aa",
   "metadata": {},
   "source": [
    "### Helper Functions"
   ]
  },
  {
   "cell_type": "code",
   "execution_count": 2,
   "id": "6ea1c623-6a44-4b83-a7e4-3e42b29c8ac0",
   "metadata": {},
   "outputs": [],
   "source": [
    "def get_rot_x(angle):\n",
    "    '''\n",
    "    transformation matrix that rotates a point about the standard X axis\n",
    "    '''\n",
    "    Rx = np.zeros(shape=(3, 3))\n",
    "    Rx[0, 0] = 1\n",
    "    Rx[1, 1] = np.cos(angle)\n",
    "    Rx[1, 2] = -np.sin(angle)\n",
    "    Rx[2, 1] = np.sin(angle)\n",
    "    Rx[2, 2] = np.cos(angle)\n",
    "    \n",
    "    return Rx\n",
    "\n",
    "def get_rot_y(angle):\n",
    "    '''\n",
    "    transformation matrix that rotates a point about the standard Y axis\n",
    "    '''\n",
    "    Ry = np.zeros(shape=(3, 3))\n",
    "    Ry[0, 0] = np.cos(angle)\n",
    "    Ry[0, 2] = -np.sin(angle)\n",
    "    Ry[2, 0] = np.sin(angle)\n",
    "    Ry[2, 2] = np.cos(angle)\n",
    "    Ry[1, 1] = 1\n",
    "    \n",
    "    return Ry\n",
    "\n",
    "def get_rot_z(angle):\n",
    "    '''\n",
    "    transformation matrix that rotates a point about the standard Z axis\n",
    "    '''\n",
    "    Rz = np.zeros(shape=(3, 3))\n",
    "    Rz[0, 0] = np.cos(angle)\n",
    "    Rz[0, 1] = -np.sin(angle)\n",
    "    Rz[1, 0] = np.sin(angle)\n",
    "    Rz[1, 1] = np.cos(angle)\n",
    "    Rz[2, 2] = 1\n",
    "    \n",
    "    return Rz"
   ]
  },
  {
   "cell_type": "code",
   "execution_count": 3,
   "id": "02280ad2-f1e8-4871-9615-8a24ceb93ae2",
   "metadata": {},
   "outputs": [],
   "source": [
    "def create_rotation_transformation_matrix(angles, order):\n",
    "    '''\n",
    "    Create a matrix that rotates a vector through the given angles in the given order\n",
    "    wrt the standard global axes (extrinsic rotation)\n",
    "    Note: The rotation is carried out anticlockwise in a left handed axial system\n",
    "    \n",
    "    Parameters\n",
    "    -----------\n",
    "    angles - list\n",
    "        list of angles in radians\n",
    "    order - string\n",
    "        the order in which to rotate\n",
    "        \n",
    "    Returns\n",
    "    --------\n",
    "    net - np.ndarray, shape - (3, 3)\n",
    "        The transformation matrix which carries out the given rotations\n",
    "    '''\n",
    "    fn_mapping = {'x': get_rot_x, 'y': get_rot_y, 'z': get_rot_z}\n",
    "    net = np.identity(3)\n",
    "    for angle, axis in list(zip(angles, order))[::-1]:\n",
    "        if fn_mapping.get(axis) is None:\n",
    "            raise ValueError(\"Invalid axis\")\n",
    "        R = fn_mapping.get(axis)\n",
    "        net = np.matmul(net, R(angle))\n",
    "        \n",
    "    return net"
   ]
  },
  {
   "cell_type": "code",
   "execution_count": 4,
   "id": "39904e93-0898-488d-bd05-5155800a866e",
   "metadata": {},
   "outputs": [],
   "source": [
    "def create_translation_matrix(offset):\n",
    "    '''\n",
    "    Create a transformation matrix that translates a vetor by the given offset\n",
    "    \n",
    "    Parameters\n",
    "    -----------\n",
    "    offset - np.ndarray, shape - (3,)\n",
    "        The translation offset\n",
    "    \n",
    "    Returns\n",
    "    ----------\n",
    "    T - np.ndarray, shape - (4, 4)\n",
    "        The translation matrix\n",
    "    '''\n",
    "    T = np.identity(4)\n",
    "    T[:3, 3] = offset\n",
    "    return T"
   ]
  },
  {
   "cell_type": "code",
   "execution_count": 5,
   "id": "9678cddf-6c09-4aa9-9ba3-de5640cd27d9",
   "metadata": {},
   "outputs": [],
   "source": [
    "def create_rotation_change_of_basis_matrix(transformation_matrix):\n",
    "    '''\n",
    "    Creates a rotation change of basis matrix\n",
    "    '''\n",
    "    # basis vectors\n",
    "    x = np.array([1, 0, 0])\n",
    "    y = np.array([0, 1, 0])\n",
    "    z = np.array([0, 0, 1])\n",
    "    \n",
    "    xt = transformation_matrix.T @ x.reshape(3, 1)\n",
    "    yt = transformation_matrix.T @ y.reshape(3, 1)\n",
    "    zt = transformation_matrix.T @ z.reshape(3, 1)\n",
    "    \n",
    "    return np.hstack((xt, yt, zt))"
   ]
  },
  {
   "cell_type": "code",
   "execution_count": 6,
   "id": "7d6324c3-0408-422f-8584-8cd70e8d28fe",
   "metadata": {},
   "outputs": [],
   "source": [
    "def transform_image_plane(T, img_size, f):\n",
    "    '''\n",
    "    Transform the image plane with the given transformation matrix\n",
    "    '''\n",
    "    h, w = img_size\n",
    "    xx, yy = np.meshgrid(range(-(h // 2), w // 2 + 1), range(-(h // 2), w // 2 + 1))\n",
    "    Z = np.ones(shape=img_size) * f\n",
    "    \n",
    "    # extract points from the image plane grid\n",
    "    pi = np.ones(shape=(4, h*w))\n",
    "    c = 0\n",
    "    for i in range(h):\n",
    "        for j in range(w):\n",
    "            x = xx[i, j]\n",
    "            y = yy[i, j]\n",
    "            z = Z[i, j]\n",
    "            point = np.array([x, y, z])\n",
    "            pi[:3, c] = point\n",
    "            c += 1\n",
    "    \n",
    "    pt = np.matmul(T, pi)\n",
    "    \n",
    "    # separate x, y, z and construct a grid from the transformed points\n",
    "    xxt = pt[0, :].reshape(img_size)\n",
    "    yyt = pt[1, :].reshape(img_size)\n",
    "    Zt = pt[2, :].reshape(img_size)\n",
    "    \n",
    "    return xxt, yyt, Zt"
   ]
  },
  {
   "cell_type": "code",
   "execution_count": 7,
   "id": "204bfa97-d245-43d9-93b0-dcfad7001e45",
   "metadata": {},
   "outputs": [],
   "source": [
    "def generate_random_points(n_points, xlim, ylim, zlim):\n",
    "    x = np.random.randint(xlim[0], xlim[1], size=n_points)\n",
    "    y = np.random.randint(ylim[0], ylim[1], size=n_points)\n",
    "    z = np.random.randint(zlim[0], zlim[1], size=n_points)\n",
    "    \n",
    "    return np.vstack((x, y, z))"
   ]
  },
  {
   "cell_type": "code",
   "execution_count": 8,
   "id": "2abedda0-4c1e-4ccf-8b14-b43d7231bc28",
   "metadata": {},
   "outputs": [],
   "source": [
    "def compute_intrinsic_parameter_matrix(f, s, a, cx, cy):\n",
    "    K = np.identity(3)\n",
    "    K[0, 0] = f\n",
    "    K[0, 1] = s\n",
    "    K[0, 2] = cx\n",
    "    K[1, 1] = a * f\n",
    "    K[1, 2] = cy\n",
    "    \n",
    "    return K"
   ]
  },
  {
   "cell_type": "code",
   "execution_count": 9,
   "id": "9244f7b9-cb20-4f75-980b-e65afe8b6663",
   "metadata": {},
   "outputs": [],
   "source": [
    "def compute_world2img_projection(points, E, K):\n",
    "        \n",
    "    P = np.identity(4)[:3, :] # the projection matrix\n",
    "    h_points_i = K @ P @ E @ points\n",
    "    \n",
    "    h_points_i[0, :] = h_points_i[0, :] / h_points_i[2, :]\n",
    "    h_points_i[1, :] = h_points_i[1, :] / h_points_i[2, :]\n",
    "\n",
    "    points_i = h_points_i[:2, :]    \n",
    "    \n",
    "    return points_i"
   ]
  },
  {
   "cell_type": "code",
   "execution_count": 10,
   "id": "ad9dc8ff-a80b-4f30-b398-3b46f9ff64a3",
   "metadata": {},
   "outputs": [],
   "source": [
    "def create_rotation_change_of_basis_matrix(transformation_matrix):\n",
    "    '''\n",
    "    Creates a rotation change of basis matrix\n",
    "    '''\n",
    "    # basis vectors\n",
    "    x = np.array([1, 0, 0])\n",
    "    y = np.array([0, 1, 0])\n",
    "    z = np.array([0, 0, 1])\n",
    "    \n",
    "    xt = transformation_matrix.T @ x.reshape(3, 1)\n",
    "    yt = transformation_matrix.T @ y.reshape(3, 1)\n",
    "    zt = transformation_matrix.T @ z.reshape(3, 1)\n",
    "    \n",
    "    return np.hstack((xt, yt, zt))"
   ]
  },
  {
   "cell_type": "code",
   "execution_count": 11,
   "id": "a5c5c20c-cccd-41e4-8fa2-6b7ef74b361b",
   "metadata": {},
   "outputs": [],
   "source": [
    "make_line = lambda u, v: np.vstack((u, v)).T"
   ]
  },
  {
   "cell_type": "code",
   "execution_count": 12,
   "id": "24749362-e8c2-46e3-b99a-480d8da21079",
   "metadata": {},
   "outputs": [],
   "source": [
    "# create the transformation matrix\n",
    "\n",
    "angles = [np.pi/4]\n",
    "order = 'y'\n",
    "\n",
    "R = create_rotation_transformation_matrix(angles, order)\n",
    "R_ = np.identity(4)\n",
    "R_[:3, :3] = R\n",
    "\n",
    "# create translation matrix\n",
    "offset = np.array([0, -0.5, 0])\n",
    "O = create_translation_matrix(offset)\n",
    "\n",
    "T = np.matmul(R_, O)"
   ]
  },
  {
   "cell_type": "code",
   "execution_count": 44,
   "id": "404f356f-81db-462b-8d17-a20381078eef",
   "metadata": {},
   "outputs": [],
   "source": [
    "f = 2\n",
    "img_size = (10, 10)\n",
    "\n",
    "# basis in homogeneous coordinates\n",
    "xh = np.array([1, 0, 0, 1])\n",
    "yh = np.array([0, 1, 0, 1])\n",
    "zh = np.array([0, 0, 1, 1])\n",
    "origin = np.array([0, 0, 0])\n",
    "\n",
    "# transform the image plane\n",
    "xxt, yyt, Zt = transform_image_plane(T, img_size, f)"
   ]
  },
  {
   "cell_type": "code",
   "execution_count": 14,
   "id": "ff3cb3e0-0032-49cf-9cbb-759a9920efc3",
   "metadata": {},
   "outputs": [],
   "source": [
    "# Generate random points\n",
    "z_ = np.array([0, 0, f, 1]).reshape(4, 1)\n",
    "z_llim = (T @ z_)[2]"
   ]
  },
  {
   "cell_type": "code",
   "execution_count": 15,
   "id": "f6809ee0-c2a7-4511-9d40-a1b0b9edf732",
   "metadata": {},
   "outputs": [],
   "source": [
    "n_points = 12\n",
    "rand_points = generate_random_points(n_points, (-10, 0), (-10, 10), (z_llim, 10))\n",
    "rand_points = rand_points"
   ]
  },
  {
   "cell_type": "code",
   "execution_count": 16,
   "id": "d56f0e79-dc75-4ce5-9b35-4d5ba43c0171",
   "metadata": {},
   "outputs": [],
   "source": [
    "# create extrinsic camera matrix\n",
    "Rc = create_rotation_change_of_basis_matrix(R)\n",
    "E = np.identity(4)\n",
    "E[:3, :3] = Rc\n",
    "E[:3, 3] = -offset"
   ]
  },
  {
   "cell_type": "code",
   "execution_count": 17,
   "id": "a35e5e32-2d09-43e7-b691-4f159b05a6fb",
   "metadata": {},
   "outputs": [],
   "source": [
    "# convert rand points to homogeneous coordinates\n",
    "rand_points_h = np.ones(shape=(4, n_points))\n",
    "for i in range(n_points):\n",
    "    point = rand_points[:, i]\n",
    "    rand_points_h[:3, i] = point"
   ]
  },
  {
   "cell_type": "code",
   "execution_count": 18,
   "id": "c2d4f985-ff96-4ef9-8ad3-6968cc18861f",
   "metadata": {},
   "outputs": [],
   "source": [
    "K = compute_intrinsic_parameter_matrix(f, 0, 1, 0, 0)"
   ]
  },
  {
   "cell_type": "code",
   "execution_count": 19,
   "id": "f5a32e78-95b6-42c2-9f5d-03c67d2ec7b7",
   "metadata": {},
   "outputs": [],
   "source": [
    "projections = compute_world2img_projection(rand_points_h, E, K)"
   ]
  },
  {
   "cell_type": "code",
   "execution_count": 20,
   "id": "75b69fe9-33d1-487c-9b00-1e0bc9814369",
   "metadata": {},
   "outputs": [
    {
     "data": {
      "text/plain": [
       "array([[-0.28571429,  0.        ,  0.28571429,  0.4       , -0.28571429,\n",
       "         1.33333333, -0.90909091,  0.54545455,  0.5       ,  0.4       ,\n",
       "         0.        , -0.4       ],\n",
       "       [-3.03045763, -1.71725933,  0.60609153, -0.84852814, -3.43451865,\n",
       "        -4.47834295,  0.38569461,  0.38569461,  2.29809704, -0.0942809 ,\n",
       "         1.1111678 ,  2.54558441]])"
      ]
     },
     "execution_count": 20,
     "metadata": {},
     "output_type": "execute_result"
    }
   ],
   "source": [
    "projections"
   ]
  },
  {
   "cell_type": "code",
   "execution_count": 45,
   "id": "1a1b22fe-9e31-4116-ae9b-7844362e9300",
   "metadata": {},
   "outputs": [
    {
     "data": {
      "text/plain": [
       "array([[-1.41421356]])"
      ]
     },
     "execution_count": 45,
     "metadata": {},
     "output_type": "execute_result"
    }
   ],
   "source": [
    "xxt"
   ]
  },
  {
   "cell_type": "code",
   "execution_count": 46,
   "id": "2add0a83-7150-4bec-b69a-3e8aacf4c0b7",
   "metadata": {},
   "outputs": [
    {
     "data": {
      "text/plain": [
       "Text(0.5, 0, 'Z-axis')"
      ]
     },
     "execution_count": 46,
     "metadata": {},
     "output_type": "execute_result"
    },
    {
     "ename": "ValueError",
     "evalue": "not enough values to unpack (expected 5, got 0)",
     "output_type": "error",
     "traceback": [
      "\u001b[1;31m---------------------------------------------------------------------------\u001b[0m",
      "\u001b[1;31mValueError\u001b[0m                                Traceback (most recent call last)",
      "\u001b[1;32mH:\\anaconda\\lib\\site-packages\\IPython\\core\\formatters.py\u001b[0m in \u001b[0;36m__call__\u001b[1;34m(self, obj, include, exclude)\u001b[0m\n\u001b[0;32m    968\u001b[0m \u001b[1;33m\u001b[0m\u001b[0m\n\u001b[0;32m    969\u001b[0m             \u001b[1;32mif\u001b[0m \u001b[0mmethod\u001b[0m \u001b[1;32mis\u001b[0m \u001b[1;32mnot\u001b[0m \u001b[1;32mNone\u001b[0m\u001b[1;33m:\u001b[0m\u001b[1;33m\u001b[0m\u001b[1;33m\u001b[0m\u001b[0m\n\u001b[1;32m--> 970\u001b[1;33m                 \u001b[1;32mreturn\u001b[0m \u001b[0mmethod\u001b[0m\u001b[1;33m(\u001b[0m\u001b[0minclude\u001b[0m\u001b[1;33m=\u001b[0m\u001b[0minclude\u001b[0m\u001b[1;33m,\u001b[0m \u001b[0mexclude\u001b[0m\u001b[1;33m=\u001b[0m\u001b[0mexclude\u001b[0m\u001b[1;33m)\u001b[0m\u001b[1;33m\u001b[0m\u001b[1;33m\u001b[0m\u001b[0m\n\u001b[0m\u001b[0;32m    971\u001b[0m             \u001b[1;32mreturn\u001b[0m \u001b[1;32mNone\u001b[0m\u001b[1;33m\u001b[0m\u001b[1;33m\u001b[0m\u001b[0m\n\u001b[0;32m    972\u001b[0m         \u001b[1;32melse\u001b[0m\u001b[1;33m:\u001b[0m\u001b[1;33m\u001b[0m\u001b[1;33m\u001b[0m\u001b[0m\n",
      "\u001b[1;32mH:\\anaconda\\lib\\site-packages\\ipympl\\backend_nbagg.py\u001b[0m in \u001b[0;36m_repr_mimebundle_\u001b[1;34m(self, **kwargs)\u001b[0m\n\u001b[0;32m    221\u001b[0m \u001b[1;33m\u001b[0m\u001b[0m\n\u001b[0;32m    222\u001b[0m         \u001b[0mbuf\u001b[0m \u001b[1;33m=\u001b[0m \u001b[0mio\u001b[0m\u001b[1;33m.\u001b[0m\u001b[0mBytesIO\u001b[0m\u001b[1;33m(\u001b[0m\u001b[1;33m)\u001b[0m\u001b[1;33m\u001b[0m\u001b[1;33m\u001b[0m\u001b[0m\n\u001b[1;32m--> 223\u001b[1;33m         \u001b[0mself\u001b[0m\u001b[1;33m.\u001b[0m\u001b[0mfigure\u001b[0m\u001b[1;33m.\u001b[0m\u001b[0msavefig\u001b[0m\u001b[1;33m(\u001b[0m\u001b[0mbuf\u001b[0m\u001b[1;33m,\u001b[0m \u001b[0mformat\u001b[0m\u001b[1;33m=\u001b[0m\u001b[1;34m'png'\u001b[0m\u001b[1;33m,\u001b[0m \u001b[0mdpi\u001b[0m\u001b[1;33m=\u001b[0m\u001b[1;34m'figure'\u001b[0m\u001b[1;33m)\u001b[0m\u001b[1;33m\u001b[0m\u001b[1;33m\u001b[0m\u001b[0m\n\u001b[0m\u001b[0;32m    224\u001b[0m         \u001b[0mdata_url\u001b[0m \u001b[1;33m=\u001b[0m \u001b[0mb64encode\u001b[0m\u001b[1;33m(\u001b[0m\u001b[0mbuf\u001b[0m\u001b[1;33m.\u001b[0m\u001b[0mgetvalue\u001b[0m\u001b[1;33m(\u001b[0m\u001b[1;33m)\u001b[0m\u001b[1;33m)\u001b[0m\u001b[1;33m.\u001b[0m\u001b[0mdecode\u001b[0m\u001b[1;33m(\u001b[0m\u001b[1;34m'utf-8'\u001b[0m\u001b[1;33m)\u001b[0m\u001b[1;33m\u001b[0m\u001b[1;33m\u001b[0m\u001b[0m\n\u001b[0;32m    225\u001b[0m \u001b[1;33m\u001b[0m\u001b[0m\n",
      "\u001b[1;32mH:\\anaconda\\lib\\site-packages\\matplotlib\\figure.py\u001b[0m in \u001b[0;36msavefig\u001b[1;34m(self, fname, transparent, **kwargs)\u001b[0m\n\u001b[0;32m   2309\u001b[0m                 \u001b[0mpatch\u001b[0m\u001b[1;33m.\u001b[0m\u001b[0mset_edgecolor\u001b[0m\u001b[1;33m(\u001b[0m\u001b[1;34m'none'\u001b[0m\u001b[1;33m)\u001b[0m\u001b[1;33m\u001b[0m\u001b[1;33m\u001b[0m\u001b[0m\n\u001b[0;32m   2310\u001b[0m \u001b[1;33m\u001b[0m\u001b[0m\n\u001b[1;32m-> 2311\u001b[1;33m         \u001b[0mself\u001b[0m\u001b[1;33m.\u001b[0m\u001b[0mcanvas\u001b[0m\u001b[1;33m.\u001b[0m\u001b[0mprint_figure\u001b[0m\u001b[1;33m(\u001b[0m\u001b[0mfname\u001b[0m\u001b[1;33m,\u001b[0m \u001b[1;33m**\u001b[0m\u001b[0mkwargs\u001b[0m\u001b[1;33m)\u001b[0m\u001b[1;33m\u001b[0m\u001b[1;33m\u001b[0m\u001b[0m\n\u001b[0m\u001b[0;32m   2312\u001b[0m \u001b[1;33m\u001b[0m\u001b[0m\n\u001b[0;32m   2313\u001b[0m         \u001b[1;32mif\u001b[0m \u001b[0mtransparent\u001b[0m\u001b[1;33m:\u001b[0m\u001b[1;33m\u001b[0m\u001b[1;33m\u001b[0m\u001b[0m\n",
      "\u001b[1;32mH:\\anaconda\\lib\\site-packages\\matplotlib\\backend_bases.py\u001b[0m in \u001b[0;36mprint_figure\u001b[1;34m(self, filename, dpi, facecolor, edgecolor, orientation, format, bbox_inches, pad_inches, bbox_extra_artists, backend, **kwargs)\u001b[0m\n\u001b[0;32m   2208\u001b[0m \u001b[1;33m\u001b[0m\u001b[0m\n\u001b[0;32m   2209\u001b[0m             \u001b[1;32mtry\u001b[0m\u001b[1;33m:\u001b[0m\u001b[1;33m\u001b[0m\u001b[1;33m\u001b[0m\u001b[0m\n\u001b[1;32m-> 2210\u001b[1;33m                 result = print_method(\n\u001b[0m\u001b[0;32m   2211\u001b[0m                     \u001b[0mfilename\u001b[0m\u001b[1;33m,\u001b[0m\u001b[1;33m\u001b[0m\u001b[1;33m\u001b[0m\u001b[0m\n\u001b[0;32m   2212\u001b[0m                     \u001b[0mdpi\u001b[0m\u001b[1;33m=\u001b[0m\u001b[0mdpi\u001b[0m\u001b[1;33m,\u001b[0m\u001b[1;33m\u001b[0m\u001b[1;33m\u001b[0m\u001b[0m\n",
      "\u001b[1;32mH:\\anaconda\\lib\\site-packages\\matplotlib\\backend_bases.py\u001b[0m in \u001b[0;36mwrapper\u001b[1;34m(*args, **kwargs)\u001b[0m\n\u001b[0;32m   1637\u001b[0m             \u001b[0mkwargs\u001b[0m\u001b[1;33m.\u001b[0m\u001b[0mpop\u001b[0m\u001b[1;33m(\u001b[0m\u001b[0marg\u001b[0m\u001b[1;33m)\u001b[0m\u001b[1;33m\u001b[0m\u001b[1;33m\u001b[0m\u001b[0m\n\u001b[0;32m   1638\u001b[0m \u001b[1;33m\u001b[0m\u001b[0m\n\u001b[1;32m-> 1639\u001b[1;33m         \u001b[1;32mreturn\u001b[0m \u001b[0mfunc\u001b[0m\u001b[1;33m(\u001b[0m\u001b[1;33m*\u001b[0m\u001b[0margs\u001b[0m\u001b[1;33m,\u001b[0m \u001b[1;33m**\u001b[0m\u001b[0mkwargs\u001b[0m\u001b[1;33m)\u001b[0m\u001b[1;33m\u001b[0m\u001b[1;33m\u001b[0m\u001b[0m\n\u001b[0m\u001b[0;32m   1640\u001b[0m \u001b[1;33m\u001b[0m\u001b[0m\n\u001b[0;32m   1641\u001b[0m     \u001b[1;32mreturn\u001b[0m \u001b[0mwrapper\u001b[0m\u001b[1;33m\u001b[0m\u001b[1;33m\u001b[0m\u001b[0m\n",
      "\u001b[1;32mH:\\anaconda\\lib\\site-packages\\matplotlib\\backends\\backend_agg.py\u001b[0m in \u001b[0;36mprint_png\u001b[1;34m(self, filename_or_obj, metadata, pil_kwargs, *args)\u001b[0m\n\u001b[0;32m    507\u001b[0m             \u001b[1;33m*\u001b[0m\u001b[0mmetadata\u001b[0m\u001b[1;33m*\u001b[0m\u001b[1;33m,\u001b[0m \u001b[0mincluding\u001b[0m \u001b[0mthe\u001b[0m \u001b[0mdefault\u001b[0m \u001b[1;34m'Software'\u001b[0m \u001b[0mkey\u001b[0m\u001b[1;33m.\u001b[0m\u001b[1;33m\u001b[0m\u001b[1;33m\u001b[0m\u001b[0m\n\u001b[0;32m    508\u001b[0m         \"\"\"\n\u001b[1;32m--> 509\u001b[1;33m         \u001b[0mFigureCanvasAgg\u001b[0m\u001b[1;33m.\u001b[0m\u001b[0mdraw\u001b[0m\u001b[1;33m(\u001b[0m\u001b[0mself\u001b[0m\u001b[1;33m)\u001b[0m\u001b[1;33m\u001b[0m\u001b[1;33m\u001b[0m\u001b[0m\n\u001b[0m\u001b[0;32m    510\u001b[0m         mpl.image.imsave(\n\u001b[0;32m    511\u001b[0m             \u001b[0mfilename_or_obj\u001b[0m\u001b[1;33m,\u001b[0m \u001b[0mself\u001b[0m\u001b[1;33m.\u001b[0m\u001b[0mbuffer_rgba\u001b[0m\u001b[1;33m(\u001b[0m\u001b[1;33m)\u001b[0m\u001b[1;33m,\u001b[0m \u001b[0mformat\u001b[0m\u001b[1;33m=\u001b[0m\u001b[1;34m\"png\"\u001b[0m\u001b[1;33m,\u001b[0m \u001b[0morigin\u001b[0m\u001b[1;33m=\u001b[0m\u001b[1;34m\"upper\"\u001b[0m\u001b[1;33m,\u001b[0m\u001b[1;33m\u001b[0m\u001b[1;33m\u001b[0m\u001b[0m\n",
      "\u001b[1;32mH:\\anaconda\\lib\\site-packages\\matplotlib\\backends\\backend_agg.py\u001b[0m in \u001b[0;36mdraw\u001b[1;34m(self)\u001b[0m\n\u001b[0;32m    405\u001b[0m              (self.toolbar._wait_cursor_for_draw_cm() if self.toolbar\n\u001b[0;32m    406\u001b[0m               else nullcontext()):\n\u001b[1;32m--> 407\u001b[1;33m             \u001b[0mself\u001b[0m\u001b[1;33m.\u001b[0m\u001b[0mfigure\u001b[0m\u001b[1;33m.\u001b[0m\u001b[0mdraw\u001b[0m\u001b[1;33m(\u001b[0m\u001b[0mself\u001b[0m\u001b[1;33m.\u001b[0m\u001b[0mrenderer\u001b[0m\u001b[1;33m)\u001b[0m\u001b[1;33m\u001b[0m\u001b[1;33m\u001b[0m\u001b[0m\n\u001b[0m\u001b[0;32m    408\u001b[0m             \u001b[1;31m# A GUI class may be need to update a window using this draw, so\u001b[0m\u001b[1;33m\u001b[0m\u001b[1;33m\u001b[0m\u001b[1;33m\u001b[0m\u001b[0m\n\u001b[0;32m    409\u001b[0m             \u001b[1;31m# don't forget to call the superclass.\u001b[0m\u001b[1;33m\u001b[0m\u001b[1;33m\u001b[0m\u001b[1;33m\u001b[0m\u001b[0m\n",
      "\u001b[1;32mH:\\anaconda\\lib\\site-packages\\matplotlib\\artist.py\u001b[0m in \u001b[0;36mdraw_wrapper\u001b[1;34m(artist, renderer, *args, **kwargs)\u001b[0m\n\u001b[0;32m     39\u001b[0m                 \u001b[0mrenderer\u001b[0m\u001b[1;33m.\u001b[0m\u001b[0mstart_filter\u001b[0m\u001b[1;33m(\u001b[0m\u001b[1;33m)\u001b[0m\u001b[1;33m\u001b[0m\u001b[1;33m\u001b[0m\u001b[0m\n\u001b[0;32m     40\u001b[0m \u001b[1;33m\u001b[0m\u001b[0m\n\u001b[1;32m---> 41\u001b[1;33m             \u001b[1;32mreturn\u001b[0m \u001b[0mdraw\u001b[0m\u001b[1;33m(\u001b[0m\u001b[0martist\u001b[0m\u001b[1;33m,\u001b[0m \u001b[0mrenderer\u001b[0m\u001b[1;33m,\u001b[0m \u001b[1;33m*\u001b[0m\u001b[0margs\u001b[0m\u001b[1;33m,\u001b[0m \u001b[1;33m**\u001b[0m\u001b[0mkwargs\u001b[0m\u001b[1;33m)\u001b[0m\u001b[1;33m\u001b[0m\u001b[1;33m\u001b[0m\u001b[0m\n\u001b[0m\u001b[0;32m     42\u001b[0m         \u001b[1;32mfinally\u001b[0m\u001b[1;33m:\u001b[0m\u001b[1;33m\u001b[0m\u001b[1;33m\u001b[0m\u001b[0m\n\u001b[0;32m     43\u001b[0m             \u001b[1;32mif\u001b[0m \u001b[0martist\u001b[0m\u001b[1;33m.\u001b[0m\u001b[0mget_agg_filter\u001b[0m\u001b[1;33m(\u001b[0m\u001b[1;33m)\u001b[0m \u001b[1;32mis\u001b[0m \u001b[1;32mnot\u001b[0m \u001b[1;32mNone\u001b[0m\u001b[1;33m:\u001b[0m\u001b[1;33m\u001b[0m\u001b[1;33m\u001b[0m\u001b[0m\n",
      "\u001b[1;32mH:\\anaconda\\lib\\site-packages\\matplotlib\\figure.py\u001b[0m in \u001b[0;36mdraw\u001b[1;34m(self, renderer)\u001b[0m\n\u001b[0;32m   1861\u001b[0m \u001b[1;33m\u001b[0m\u001b[0m\n\u001b[0;32m   1862\u001b[0m             \u001b[0mself\u001b[0m\u001b[1;33m.\u001b[0m\u001b[0mpatch\u001b[0m\u001b[1;33m.\u001b[0m\u001b[0mdraw\u001b[0m\u001b[1;33m(\u001b[0m\u001b[0mrenderer\u001b[0m\u001b[1;33m)\u001b[0m\u001b[1;33m\u001b[0m\u001b[1;33m\u001b[0m\u001b[0m\n\u001b[1;32m-> 1863\u001b[1;33m             mimage._draw_list_compositing_images(\n\u001b[0m\u001b[0;32m   1864\u001b[0m                 renderer, self, artists, self.suppressComposite)\n\u001b[0;32m   1865\u001b[0m \u001b[1;33m\u001b[0m\u001b[0m\n",
      "\u001b[1;32mH:\\anaconda\\lib\\site-packages\\matplotlib\\image.py\u001b[0m in \u001b[0;36m_draw_list_compositing_images\u001b[1;34m(renderer, parent, artists, suppress_composite)\u001b[0m\n\u001b[0;32m    129\u001b[0m     \u001b[1;32mif\u001b[0m \u001b[0mnot_composite\u001b[0m \u001b[1;32mor\u001b[0m \u001b[1;32mnot\u001b[0m \u001b[0mhas_images\u001b[0m\u001b[1;33m:\u001b[0m\u001b[1;33m\u001b[0m\u001b[1;33m\u001b[0m\u001b[0m\n\u001b[0;32m    130\u001b[0m         \u001b[1;32mfor\u001b[0m \u001b[0ma\u001b[0m \u001b[1;32min\u001b[0m \u001b[0martists\u001b[0m\u001b[1;33m:\u001b[0m\u001b[1;33m\u001b[0m\u001b[1;33m\u001b[0m\u001b[0m\n\u001b[1;32m--> 131\u001b[1;33m             \u001b[0ma\u001b[0m\u001b[1;33m.\u001b[0m\u001b[0mdraw\u001b[0m\u001b[1;33m(\u001b[0m\u001b[0mrenderer\u001b[0m\u001b[1;33m)\u001b[0m\u001b[1;33m\u001b[0m\u001b[1;33m\u001b[0m\u001b[0m\n\u001b[0m\u001b[0;32m    132\u001b[0m     \u001b[1;32melse\u001b[0m\u001b[1;33m:\u001b[0m\u001b[1;33m\u001b[0m\u001b[1;33m\u001b[0m\u001b[0m\n\u001b[0;32m    133\u001b[0m         \u001b[1;31m# Composite any adjacent images together\u001b[0m\u001b[1;33m\u001b[0m\u001b[1;33m\u001b[0m\u001b[1;33m\u001b[0m\u001b[0m\n",
      "\u001b[1;32mH:\\anaconda\\lib\\site-packages\\matplotlib\\artist.py\u001b[0m in \u001b[0;36mdraw_wrapper\u001b[1;34m(artist, renderer, *args, **kwargs)\u001b[0m\n\u001b[0;32m     39\u001b[0m                 \u001b[0mrenderer\u001b[0m\u001b[1;33m.\u001b[0m\u001b[0mstart_filter\u001b[0m\u001b[1;33m(\u001b[0m\u001b[1;33m)\u001b[0m\u001b[1;33m\u001b[0m\u001b[1;33m\u001b[0m\u001b[0m\n\u001b[0;32m     40\u001b[0m \u001b[1;33m\u001b[0m\u001b[0m\n\u001b[1;32m---> 41\u001b[1;33m             \u001b[1;32mreturn\u001b[0m \u001b[0mdraw\u001b[0m\u001b[1;33m(\u001b[0m\u001b[0martist\u001b[0m\u001b[1;33m,\u001b[0m \u001b[0mrenderer\u001b[0m\u001b[1;33m,\u001b[0m \u001b[1;33m*\u001b[0m\u001b[0margs\u001b[0m\u001b[1;33m,\u001b[0m \u001b[1;33m**\u001b[0m\u001b[0mkwargs\u001b[0m\u001b[1;33m)\u001b[0m\u001b[1;33m\u001b[0m\u001b[1;33m\u001b[0m\u001b[0m\n\u001b[0m\u001b[0;32m     42\u001b[0m         \u001b[1;32mfinally\u001b[0m\u001b[1;33m:\u001b[0m\u001b[1;33m\u001b[0m\u001b[1;33m\u001b[0m\u001b[0m\n\u001b[0;32m     43\u001b[0m             \u001b[1;32mif\u001b[0m \u001b[0martist\u001b[0m\u001b[1;33m.\u001b[0m\u001b[0mget_agg_filter\u001b[0m\u001b[1;33m(\u001b[0m\u001b[1;33m)\u001b[0m \u001b[1;32mis\u001b[0m \u001b[1;32mnot\u001b[0m \u001b[1;32mNone\u001b[0m\u001b[1;33m:\u001b[0m\u001b[1;33m\u001b[0m\u001b[1;33m\u001b[0m\u001b[0m\n",
      "\u001b[1;32mH:\\anaconda\\lib\\site-packages\\mpl_toolkits\\mplot3d\\axes3d.py\u001b[0m in \u001b[0;36mdraw\u001b[1;34m(self, renderer)\u001b[0m\n\u001b[0;32m    443\u001b[0m                             for axis in self._get_axis_list()) + 1\n\u001b[0;32m    444\u001b[0m         for i, col in enumerate(\n\u001b[1;32m--> 445\u001b[1;33m                 sorted(self.collections,\n\u001b[0m\u001b[0;32m    446\u001b[0m                        \u001b[0mkey\u001b[0m\u001b[1;33m=\u001b[0m\u001b[1;32mlambda\u001b[0m \u001b[0mcol\u001b[0m\u001b[1;33m:\u001b[0m \u001b[0mcol\u001b[0m\u001b[1;33m.\u001b[0m\u001b[0mdo_3d_projection\u001b[0m\u001b[1;33m(\u001b[0m\u001b[0mrenderer\u001b[0m\u001b[1;33m)\u001b[0m\u001b[1;33m,\u001b[0m\u001b[1;33m\u001b[0m\u001b[1;33m\u001b[0m\u001b[0m\n\u001b[0;32m    447\u001b[0m                        reverse=True)):\n",
      "\u001b[1;32mH:\\anaconda\\lib\\site-packages\\mpl_toolkits\\mplot3d\\axes3d.py\u001b[0m in \u001b[0;36m<lambda>\u001b[1;34m(col)\u001b[0m\n\u001b[0;32m    444\u001b[0m         for i, col in enumerate(\n\u001b[0;32m    445\u001b[0m                 sorted(self.collections,\n\u001b[1;32m--> 446\u001b[1;33m                        \u001b[0mkey\u001b[0m\u001b[1;33m=\u001b[0m\u001b[1;32mlambda\u001b[0m \u001b[0mcol\u001b[0m\u001b[1;33m:\u001b[0m \u001b[0mcol\u001b[0m\u001b[1;33m.\u001b[0m\u001b[0mdo_3d_projection\u001b[0m\u001b[1;33m(\u001b[0m\u001b[0mrenderer\u001b[0m\u001b[1;33m)\u001b[0m\u001b[1;33m,\u001b[0m\u001b[1;33m\u001b[0m\u001b[1;33m\u001b[0m\u001b[0m\n\u001b[0m\u001b[0;32m    447\u001b[0m                        reverse=True)):\n\u001b[0;32m    448\u001b[0m             \u001b[0mcol\u001b[0m\u001b[1;33m.\u001b[0m\u001b[0mzorder\u001b[0m \u001b[1;33m=\u001b[0m \u001b[0mzorder_offset\u001b[0m \u001b[1;33m+\u001b[0m \u001b[0mi\u001b[0m\u001b[1;33m\u001b[0m\u001b[1;33m\u001b[0m\u001b[0m\n",
      "\u001b[1;32mH:\\anaconda\\lib\\site-packages\\mpl_toolkits\\mplot3d\\art3d.py\u001b[0m in \u001b[0;36mdo_3d_projection\u001b[1;34m(self, renderer)\u001b[0m\n\u001b[0;32m    766\u001b[0m             key=lambda x: x[0], reverse=True)\n\u001b[0;32m    767\u001b[0m \u001b[1;33m\u001b[0m\u001b[0m\n\u001b[1;32m--> 768\u001b[1;33m         \u001b[0mzzs\u001b[0m\u001b[1;33m,\u001b[0m \u001b[0msegments_2d\u001b[0m\u001b[1;33m,\u001b[0m \u001b[0mself\u001b[0m\u001b[1;33m.\u001b[0m\u001b[0m_facecolors2d\u001b[0m\u001b[1;33m,\u001b[0m \u001b[0mself\u001b[0m\u001b[1;33m.\u001b[0m\u001b[0m_edgecolors2d\u001b[0m\u001b[1;33m,\u001b[0m \u001b[0midxs\u001b[0m \u001b[1;33m=\u001b[0m\u001b[0;31m \u001b[0m\u001b[0;31m\\\u001b[0m\u001b[1;33m\u001b[0m\u001b[1;33m\u001b[0m\u001b[0m\n\u001b[0m\u001b[0;32m    769\u001b[0m             \u001b[0mzip\u001b[0m\u001b[1;33m(\u001b[0m\u001b[1;33m*\u001b[0m\u001b[0mz_segments_2d\u001b[0m\u001b[1;33m)\u001b[0m\u001b[1;33m\u001b[0m\u001b[1;33m\u001b[0m\u001b[0m\n\u001b[0;32m    770\u001b[0m \u001b[1;33m\u001b[0m\u001b[0m\n",
      "\u001b[1;31mValueError\u001b[0m: not enough values to unpack (expected 5, got 0)"
     ]
    },
    {
     "data": {
      "text/plain": [
       "Canvas(toolbar=Toolbar(toolitems=[('Home', 'Reset original view', 'home', 'home'), ('Back', 'Back to previous view', 'arrow-left', 'back'), ('Forward', 'Forward to next view', 'arrow-right', 'forward'), ('Pan', 'Left button pans, Right button zooms\\nx/y fixes axis, CTRL fixes aspect', 'arrows', 'pan'), ('Zoom', 'Zoom to rectangle\\nx/y fixes axis, CTRL fixes aspect', 'square-o', 'zoom'), ('Download', 'Download plot', 'floppy-o', 'save_figure')]))"
      ]
     },
     "metadata": {},
     "output_type": "display_data"
    }
   ],
   "source": [
    "# plot the transformed camera and image plane\n",
    "\n",
    "# create figure\n",
    "fig = plt.figure(figsize=(6, 4))\n",
    "ax = fig.add_subplot(111,projection='3d')\n",
    "\n",
    "# set axis limits\n",
    "ax.set(xlim=(-10, 0), ylim=(-10, 10), zlim=(0, 10))\n",
    "\n",
    "# plot the transformed basis using the library\n",
    "ax = pr.plot_basis(ax, R, p=offset)\n",
    "\n",
    "# plot the image plane\n",
    "ax.plot_surface(xxt, yyt, Zt, alpha=0.75)\n",
    "\n",
    "# transform the basis points using the transformation matrix\n",
    "xt = T @ xh.reshape(4, 1)\n",
    "yt = T @ yh.reshape(4, 1)\n",
    "zt = T @ zh.reshape(4, 1)\n",
    "\n",
    "ax.scatter(*xt.flatten()[:3], label=\"transformed X\", color=\"red\")\n",
    "ax.scatter(*yt.flatten()[:3], label=\"transformed Y\", color=\"green\")\n",
    "ax.scatter(*zt.flatten()[:3], label=\"transformed Z\", color=\"blue\")\n",
    "\n",
    "# plot points\n",
    "for i in range(n_points):\n",
    "    point = rand_points[:, i]\n",
    "    ax.scatter(*point, color=\"orange\")\n",
    "    ax.plot(*make_line(origin, point), color=\"purple\", alpha=0.25)\n",
    "\n",
    "# set labels\n",
    "ax.set_title(\"Camera Transformation\")\n",
    "ax.set_xlabel(\"X-axis\")\n",
    "ax.set_ylabel(\"Y-axis\")\n",
    "ax.set_zlabel(\"Z-axis\")\n",
    "\n",
    "plt.legend()"
   ]
  },
  {
   "cell_type": "code",
   "execution_count": 22,
   "id": "650d247c-70a9-40e9-807a-58941246277e",
   "metadata": {},
   "outputs": [
    {
     "data": {
      "text/plain": [
       "array([[-0.28571429,  0.        ,  0.28571429,  0.4       , -0.28571429,\n",
       "         1.33333333, -0.90909091,  0.54545455,  0.5       ,  0.4       ,\n",
       "         0.        , -0.4       ],\n",
       "       [-3.03045763, -1.71725933,  0.60609153, -0.84852814, -3.43451865,\n",
       "        -4.47834295,  0.38569461,  0.38569461,  2.29809704, -0.0942809 ,\n",
       "         1.1111678 ,  2.54558441]])"
      ]
     },
     "execution_count": 22,
     "metadata": {},
     "output_type": "execute_result"
    }
   ],
   "source": [
    "projections"
   ]
  },
  {
   "cell_type": "code",
   "execution_count": 23,
   "id": "159973ff-c1d6-4c19-a1c2-95641aafbff9",
   "metadata": {},
   "outputs": [
    {
     "name": "stderr",
     "output_type": "stream",
     "text": [
      "<ipython-input-23-dc8e248d24c9>:5: UserWarning: Attempting to set identical left == right == 0 results in singular transformations; automatically expanding.\n",
      "  ax.set(xlim = (-(h // 2), w // 2), ylim = (-(h // 2), w // 2))\n",
      "<ipython-input-23-dc8e248d24c9>:5: UserWarning: Attempting to set identical bottom == top == 0 results in singular transformations; automatically expanding.\n",
      "  ax.set(xlim = (-(h // 2), w // 2), ylim = (-(h // 2), w // 2))\n"
     ]
    },
    {
     "data": {
      "application/vnd.jupyter.widget-view+json": {
       "model_id": "f26ab3b340f24780bf997034318fea26",
       "version_major": 2,
       "version_minor": 0
      },
      "image/png": "[encoded data removed]",
      "text/plain": [
       "Canvas(toolbar=Toolbar(toolitems=[('Home', 'Reset original view', 'home', 'home'), ('Back', 'Back to previous …"
      ]
     },
     "metadata": {},
     "output_type": "display_data"
    }
   ],
   "source": [
    "fig = plt.figure(figsize=(6, 4))\n",
    "ax = fig.add_subplot(111)\n",
    "\n",
    "h, w = img_size\n",
    "ax.set(xlim = (-(h // 2), w // 2), ylim = (-(h // 2), w // 2))\n",
    "for i in range(n_points):\n",
    "        ax.scatter(*projections[:, i], color=\"orange\")"
   ]
  },
  {
   "cell_type": "code",
   "execution_count": 24,
   "id": "2ee7ef3c-9e54-4ff9-b72b-fdedcfd4eec7",
   "metadata": {},
   "outputs": [
    {
     "data": {
      "text/plain": [
       "((3, 12), (2, 12))"
      ]
     },
     "execution_count": 24,
     "metadata": {},
     "output_type": "execute_result"
    }
   ],
   "source": [
    "rand_points.shape, projections.shape"
   ]
  },
  {
   "cell_type": "code",
   "execution_count": 25,
   "id": "4ea72da7-6f65-47b4-b191-d1199aab9e74",
   "metadata": {},
   "outputs": [],
   "source": [
    "P = np.identity(4)[:3, :] # the projection matrix\n",
    "M = K @ P @ E"
   ]
  },
  {
   "cell_type": "code",
   "execution_count": 26,
   "id": "8c3f584d-e504-4194-bb11-9394950eb8fc",
   "metadata": {},
   "outputs": [
    {
     "data": {
      "text/plain": [
       "array([[ 1.41421356,  0.        ,  1.41421356,  0.        ],\n",
       "       [ 0.        ,  2.        ,  0.        ,  1.        ],\n",
       "       [-0.70710678,  0.        ,  0.70710678,  0.        ]])"
      ]
     },
     "execution_count": 26,
     "metadata": {},
     "output_type": "execute_result"
    }
   ],
   "source": [
    "M"
   ]
  },
  {
   "cell_type": "code",
   "execution_count": 27,
   "id": "f2528663-d638-494d-ba38-6ec8b21e8bc0",
   "metadata": {},
   "outputs": [],
   "source": [
    "def create_algebraic_matrix(world_point, projection_point):\n",
    "    X, Y, Z = world_point\n",
    "    u, v = projection_point\n",
    "    rows = np.zeros(shape=(2, 12))\n",
    "    \n",
    "    rows[0, 0], rows[0, 1], rows[0, 2], rows[0, 3] = X, Y, Z, 1\n",
    "    rows[0, 8], rows[0, 9], rows[0, 10], rows[0, 11] = -u * X, -u * Y, -u * Z, -u\n",
    "    \n",
    "    rows[1, 4], rows[1, 5], rows[1, 6], rows[1, 7] = X, Y, Z, 1\n",
    "    rows[1, 8], rows[1, 9], rows[1, 10], rows[1, 11] = -v * X, -v * Y, -v * Z, -v\n",
    "    \n",
    "    return rows"
   ]
  },
  {
   "cell_type": "code",
   "execution_count": 28,
   "id": "8bea96b3-bc8a-4a04-961c-e2d71a19d402",
   "metadata": {},
   "outputs": [],
   "source": [
    "A = np.ones(shape=(2*n_points, 12))"
   ]
  },
  {
   "cell_type": "code",
   "execution_count": 29,
   "id": "3808210d-6382-45cf-99f1-8c1dca01e38c",
   "metadata": {},
   "outputs": [],
   "source": [
    "c = 0\n",
    "for i in range(n_points):\n",
    "    w = rand_points[:, i]\n",
    "    p = projections[:, i]\n",
    "    A[c:c+2, :] = create_algebraic_matrix(w, p)\n",
    "    c += 2"
   ]
  },
  {
   "cell_type": "code",
   "execution_count": 30,
   "id": "e82917cb-bcde-45d9-b8c9-ec85b4fd0153",
   "metadata": {},
   "outputs": [
    {
     "data": {
      "text/plain": [
       "(24, 12)"
      ]
     },
     "execution_count": 30,
     "metadata": {},
     "output_type": "execute_result"
    }
   ],
   "source": [
    "A.shape"
   ]
  },
  {
   "cell_type": "code",
   "execution_count": 31,
   "id": "7654dfd4-f90e-44ef-8b59-874e3ccbbc2e",
   "metadata": {},
   "outputs": [],
   "source": [
    "V = np.matmul(A.T, A)"
   ]
  },
  {
   "cell_type": "code",
   "execution_count": 32,
   "id": "d788b56d-1512-45d5-8733-bc61230e6060",
   "metadata": {},
   "outputs": [
    {
     "data": {
      "text/plain": [
       "(12, 12)"
      ]
     },
     "execution_count": 32,
     "metadata": {},
     "output_type": "execute_result"
    }
   ],
   "source": [
    "V.shape"
   ]
  },
  {
   "cell_type": "code",
   "execution_count": 33,
   "id": "25dbdb48-1ddc-475c-8cc4-011d4c3f5343",
   "metadata": {},
   "outputs": [],
   "source": [
    "w, v = np.linalg.eig(V)"
   ]
  },
  {
   "cell_type": "code",
   "execution_count": 34,
   "id": "6a798983-ecdf-4b37-8e28-b70e87ae5b3a",
   "metadata": {},
   "outputs": [],
   "source": [
    "m = v[:, 11]"
   ]
  },
  {
   "cell_type": "code",
   "execution_count": 35,
   "id": "245660aa-3f9b-4a92-bbd4-cf388b8c041e",
   "metadata": {},
   "outputs": [
    {
     "data": {
      "text/plain": [
       "array([ 0.15130928, -0.0041094 ,  0.1409516 ,  0.04735786, -0.09241255,\n",
       "        0.20945429,  0.05869871, -0.93729794, -0.07962174, -0.02476708,\n",
       "        0.06896977, -0.0942576 ])"
      ]
     },
     "execution_count": 35,
     "metadata": {},
     "output_type": "execute_result"
    }
   ],
   "source": [
    "m"
   ]
  },
  {
   "cell_type": "code",
   "execution_count": 36,
   "id": "52c087e8-449d-4bc1-8c26-8ff0fcb6fa0c",
   "metadata": {},
   "outputs": [],
   "source": [
    "M_ = m.reshape(3, 4)"
   ]
  },
  {
   "cell_type": "code",
   "execution_count": 37,
   "id": "3b6eada9-da86-4ff1-8ce0-2a477e64348f",
   "metadata": {},
   "outputs": [
    {
     "ename": "NameError",
     "evalue": "name 'result' is not defined",
     "output_type": "error",
     "traceback": [
      "\u001b[1;31m---------------------------------------------------------------------------\u001b[0m",
      "\u001b[1;31mNameError\u001b[0m                                 Traceback (most recent call last)",
      "\u001b[1;32m<ipython-input-37-c12399e0cfc6>\u001b[0m in \u001b[0;36m<module>\u001b[1;34m\u001b[0m\n\u001b[1;32m----> 1\u001b[1;33m \u001b[0mM__\u001b[0m \u001b[1;33m=\u001b[0m \u001b[0mresult\u001b[0m\u001b[1;33m.\u001b[0m\u001b[0mx\u001b[0m\u001b[1;33m.\u001b[0m\u001b[0mreshape\u001b[0m\u001b[1;33m(\u001b[0m\u001b[1;36m3\u001b[0m\u001b[1;33m,\u001b[0m \u001b[1;36m4\u001b[0m\u001b[1;33m)\u001b[0m\u001b[1;33m\u001b[0m\u001b[1;33m\u001b[0m\u001b[0m\n\u001b[0m",
      "\u001b[1;31mNameError\u001b[0m: name 'result' is not defined"
     ]
    }
   ],
   "source": [
    "M__ = result.x.reshape(3, 4)"
   ]
  },
  {
   "cell_type": "code",
   "execution_count": null,
   "id": "0a5b3d2d-55e8-4674-9188-8edeb3bf0f3a",
   "metadata": {},
   "outputs": [],
   "source": [
    "predictions = np.matmul(M__, rand_points_h)"
   ]
  },
  {
   "cell_type": "code",
   "execution_count": null,
   "id": "d61e536b-b518-48f7-91e3-9701ed47eddc",
   "metadata": {},
   "outputs": [],
   "source": [
    "predictions[0, :] = predictions[0, :] / predictions[2, :]\n",
    "predictions[1, :] = predictions[1, :] / predictions[2, :]\n",
    "\n",
    "predictions = predictions[:2, :]  "
   ]
  },
  {
   "cell_type": "code",
   "execution_count": null,
   "id": "6bf71734-1955-4b76-a1b8-0a8c13b91a81",
   "metadata": {},
   "outputs": [],
   "source": [
    "fig = plt.figure(figsize=(6, 4))\n",
    "ax = fig.add_subplot(111)\n",
    "\n",
    "h, w = img_size\n",
    "ax.set(xlim = (-(h // 2), w // 2), ylim = (-(h // 2), w // 2))\n",
    "for i in range(n_points):\n",
    "        ax.scatter(*projections[:, i], color=\"orange\")\n",
    "        ax.scatter(*predictions[:, i], color=\"green\")"
   ]
  },
  {
   "cell_type": "code",
   "execution_count": null,
   "id": "9096f9cc-c420-4254-b75e-ef3031b2ce8d",
   "metadata": {},
   "outputs": [],
   "source": [
    "projections"
   ]
  },
  {
   "cell_type": "code",
   "execution_count": null,
   "id": "10dfe31f-4e69-46a1-8974-cbe5be748909",
   "metadata": {},
   "outputs": [],
   "source": [
    "predictions"
   ]
  },
  {
   "cell_type": "code",
   "execution_count": null,
   "id": "b108c642-e4dc-4a7d-af77-8bcafcb7b05c",
   "metadata": {},
   "outputs": [],
   "source": [
    "M"
   ]
  },
  {
   "cell_type": "code",
   "execution_count": null,
   "id": "4cdf28c2-6da5-48a9-ae52-147e7349b8bc",
   "metadata": {},
   "outputs": [],
   "source": [
    "M__"
   ]
  },
  {
   "cell_type": "code",
   "execution_count": null,
   "id": "92b1d8e1-ce82-43b1-8440-255659d5b5da",
   "metadata": {},
   "outputs": [],
   "source": []
  },
  {
   "cell_type": "code",
   "execution_count": null,
   "id": "701afa09-cbba-47b6-9c36-cac7740b41ae",
   "metadata": {},
   "outputs": [],
   "source": []
  },
  {
   "cell_type": "code",
   "execution_count": null,
   "id": "db673b13-529d-449a-9052-fded94d03c0d",
   "metadata": {},
   "outputs": [],
   "source": []
  },
  {
   "cell_type": "code",
   "execution_count": null,
   "id": "3991b2ee-7b43-4ccc-b991-7e9b08bb6e6e",
   "metadata": {},
   "outputs": [],
   "source": []
  },
  {
   "cell_type": "code",
   "execution_count": null,
   "id": "dbbfe9f8-a57a-4773-93b9-98fd426d9c5a",
   "metadata": {},
   "outputs": [],
   "source": [
    "def geometric_error(m):\n",
    "#     n_points = kwargs.get(\"n_points\")\n",
    "#     world_points = kwargs.get(\"world_points\")\n",
    "#     projections = kwargs.get(\"projections\")\n",
    "#     m_ = np.ones(12)\n",
    "    error = 0\n",
    "    for i in range(n_points):\n",
    "        X, Y, Z = rand_points[:, i]\n",
    "        u, v = projections[:, i]\n",
    "        u_ = m[0] * X + m[1] * Y + m[2] * Z + m[3]\n",
    "        v_ = m[4] * X + m[5] * Y + m[6] * Z + m[7]\n",
    "        d = m[8] * X + m[9] * Y + m[10] * Z + m[11] \n",
    "        u_ = u_/d\n",
    "        v_ = v_/d\n",
    "        error += np.sqrt(np.square(u - u_) + np.square(v - v_))\n",
    "    return error\n",
    "        "
   ]
  },
  {
   "cell_type": "code",
   "execution_count": null,
   "id": "655158a3-8b3c-41a2-a11d-aa1570061ba1",
   "metadata": {},
   "outputs": [],
   "source": [
    "from scipy.optimize import least_squares, minimize"
   ]
  },
  {
   "cell_type": "code",
   "execution_count": null,
   "id": "21e18455-6a73-410a-91b7-c470d3d8caf1",
   "metadata": {},
   "outputs": [],
   "source": [
    "# arg_dict={\"n_points\": n_points, \"world_points\": rand_points, \"projections\": projections}"
   ]
  },
  {
   "cell_type": "code",
   "execution_count": null,
   "id": "3451c4a1-0483-4ca3-bab4-e4e59ee066c2",
   "metadata": {},
   "outputs": [],
   "source": [
    "# geometric_error(m, n_points=n_points, world_points=rand_points, projections=projections)"
   ]
  },
  {
   "cell_type": "code",
   "execution_count": null,
   "id": "206ee05d-2bc8-4849-a40e-b33d7d7b0e28",
   "metadata": {},
   "outputs": [],
   "source": [
    "# result = least_squares(geometric_error, m, method='lm', kwargs=arg_dict)"
   ]
  },
  {
   "cell_type": "code",
   "execution_count": null,
   "id": "0ac728d3-484c-438b-b76f-9752648ca2e1",
   "metadata": {},
   "outputs": [],
   "source": [
    "result = minimize(geometric_error, m)"
   ]
  },
  {
   "cell_type": "code",
   "execution_count": null,
   "id": "862acdfb-2c19-4f89-a681-aedc23ce3b9a",
   "metadata": {},
   "outputs": [],
   "source": [
    "M__ = result.x"
   ]
  },
  {
   "cell_type": "code",
   "execution_count": null,
   "id": "bd14e458-be50-4935-b925-3f8a0da94740",
   "metadata": {},
   "outputs": [],
   "source": [
    "M__ = M__.reshape(3, 4)"
   ]
  },
  {
   "cell_type": "code",
   "execution_count": null,
   "id": "86a9ff32-f8da-4aba-bf54-2c609a21e43a",
   "metadata": {},
   "outputs": [],
   "source": [
    "M"
   ]
  },
  {
   "cell_type": "code",
   "execution_count": null,
   "id": "8004f8dd-ef28-46d4-a9df-f2be0ce2beeb",
   "metadata": {},
   "outputs": [],
   "source": [
    "M__\n"
   ]
  },
  {
   "cell_type": "code",
   "execution_count": null,
   "id": "cf747531-f16e-45fd-ac1e-72dd5be71a05",
   "metadata": {},
   "outputs": [],
   "source": [
    "np.round(np.matmul(np.linalg.inv(M__[:3, :3]), M__[:3, 3]), decimals=3)"
   ]
  },
  {
   "cell_type": "code",
   "execution_count": null,
   "id": "3f2eac62-8528-457a-8dd1-8f2674453ee2",
   "metadata": {},
   "outputs": [],
   "source": []
  }
 ],
 "metadata": {
  "kernelspec": {
   "display_name": "Python 3",
   "language": "python",
   "name": "python3"
  },
  "language_info": {
   "codemirror_mode": {
    "name": "ipython",
    "version": 3
   },
   "file_extension": ".py",
   "mimetype": "text/x-python",
   "name": "python",
   "nbconvert_exporter": "python",
   "pygments_lexer": "ipython3",
   "version": "3.8.8"
  }
 },
 "nbformat": 4,
 "nbformat_minor": 5
}
