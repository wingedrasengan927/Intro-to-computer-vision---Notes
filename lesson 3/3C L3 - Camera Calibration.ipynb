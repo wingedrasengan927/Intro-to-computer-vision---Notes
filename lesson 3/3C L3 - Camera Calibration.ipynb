{
 "cells": [
  {
   "cell_type": "markdown",
   "id": "6278dead-2d0c-4c7b-be5b-3ebd7280918a",
   "metadata": {},
   "source": [
    "## 3C - L3 Camera Calibration"
   ]
  },
  {
   "cell_type": "code",
   "execution_count": 1,
   "id": "f54333c1-0083-4d0d-96bf-9b645d4f7237",
   "metadata": {},
   "outputs": [],
   "source": [
    "%matplotlib widget\n",
    "\n",
    "import numpy as np\n",
    "import matplotlib.pyplot as plt\n",
    "import pytransform3d.rotations as pr\n",
    "from pytransform3d.plot_utils import plot_vector\n",
    "\n",
    "np.random.seed(42)"
   ]
  },
  {
   "cell_type": "markdown",
   "id": "c9b528c0-9586-42a7-8236-f2b337b344aa",
   "metadata": {},
   "source": [
    "### Helper Functions"
   ]
  },
  {
   "cell_type": "code",
   "execution_count": 2,
   "id": "6ea1c623-6a44-4b83-a7e4-3e42b29c8ac0",
   "metadata": {},
   "outputs": [],
   "source": [
    "def get_rot_x(angle):\n",
    "    '''\n",
    "    transformation matrix that rotates a point about the standard X axis\n",
    "    '''\n",
    "    Rx = np.zeros(shape=(3, 3))\n",
    "    Rx[0, 0] = 1\n",
    "    Rx[1, 1] = np.cos(angle)\n",
    "    Rx[1, 2] = -np.sin(angle)\n",
    "    Rx[2, 1] = np.sin(angle)\n",
    "    Rx[2, 2] = np.cos(angle)\n",
    "    \n",
    "    return Rx\n",
    "\n",
    "def get_rot_y(angle):\n",
    "    '''\n",
    "    transformation matrix that rotates a point about the standard Y axis\n",
    "    '''\n",
    "    Ry = np.zeros(shape=(3, 3))\n",
    "    Ry[0, 0] = np.cos(angle)\n",
    "    Ry[0, 2] = -np.sin(angle)\n",
    "    Ry[2, 0] = np.sin(angle)\n",
    "    Ry[2, 2] = np.cos(angle)\n",
    "    Ry[1, 1] = 1\n",
    "    \n",
    "    return Ry\n",
    "\n",
    "def get_rot_z(angle):\n",
    "    '''\n",
    "    transformation matrix that rotates a point about the standard Z axis\n",
    "    '''\n",
    "    Rz = np.zeros(shape=(3, 3))\n",
    "    Rz[0, 0] = np.cos(angle)\n",
    "    Rz[0, 1] = -np.sin(angle)\n",
    "    Rz[1, 0] = np.sin(angle)\n",
    "    Rz[1, 1] = np.cos(angle)\n",
    "    Rz[2, 2] = 1\n",
    "    \n",
    "    return Rz"
   ]
  },
  {
   "cell_type": "code",
   "execution_count": 3,
   "id": "02280ad2-f1e8-4871-9615-8a24ceb93ae2",
   "metadata": {},
   "outputs": [],
   "source": [
    "def create_rotation_transformation_matrix(angles, order):\n",
    "    '''\n",
    "    Create a matrix that rotates a vector through the given angles in the given order\n",
    "    wrt the standard global axes (extrinsic rotation)\n",
    "    Note: The rotation is carried out anticlockwise in a left handed axial system\n",
    "    \n",
    "    Parameters\n",
    "    -----------\n",
    "    angles - list\n",
    "        list of angles in radians\n",
    "    order - string\n",
    "        the order in which to rotate\n",
    "        \n",
    "    Returns\n",
    "    --------\n",
    "    net - np.ndarray, shape - (3, 3)\n",
    "        The transformation matrix which carries out the given rotations\n",
    "    '''\n",
    "    fn_mapping = {'x': get_rot_x, 'y': get_rot_y, 'z': get_rot_z}\n",
    "    net = np.identity(3)\n",
    "    for angle, axis in list(zip(angles, order))[::-1]:\n",
    "        if fn_mapping.get(axis) is None:\n",
    "            raise ValueError(\"Invalid axis\")\n",
    "        R = fn_mapping.get(axis)\n",
    "        net = np.matmul(net, R(angle))\n",
    "        \n",
    "    return net"
   ]
  },
  {
   "cell_type": "code",
   "execution_count": 4,
   "id": "39904e93-0898-488d-bd05-5155800a866e",
   "metadata": {},
   "outputs": [],
   "source": [
    "def create_translation_matrix(offset):\n",
    "    '''\n",
    "    Create a transformation matrix that translates a vetor by the given offset\n",
    "    \n",
    "    Parameters\n",
    "    -----------\n",
    "    offset - np.ndarray, shape - (3,)\n",
    "        The translation offset\n",
    "    \n",
    "    Returns\n",
    "    ----------\n",
    "    T - np.ndarray, shape - (4, 4)\n",
    "        The translation matrix\n",
    "    '''\n",
    "    T = np.identity(4)\n",
    "    T[:3, 3] = offset\n",
    "    return T"
   ]
  },
  {
   "cell_type": "code",
   "execution_count": 5,
   "id": "9678cddf-6c09-4aa9-9ba3-de5640cd27d9",
   "metadata": {},
   "outputs": [],
   "source": [
    "def create_rotation_change_of_basis_matrix(transformation_matrix):\n",
    "    '''\n",
    "    Creates a rotation change of basis matrix\n",
    "    '''\n",
    "    # basis vectors\n",
    "    x = np.array([1, 0, 0])\n",
    "    y = np.array([0, 1, 0])\n",
    "    z = np.array([0, 0, 1])\n",
    "    \n",
    "    xt = transformation_matrix.T @ x.reshape(3, 1)\n",
    "    yt = transformation_matrix.T @ y.reshape(3, 1)\n",
    "    zt = transformation_matrix.T @ z.reshape(3, 1)\n",
    "    \n",
    "    return np.hstack((xt, yt, zt))"
   ]
  },
  {
   "cell_type": "code",
   "execution_count": 6,
   "id": "7d6324c3-0408-422f-8584-8cd70e8d28fe",
   "metadata": {},
   "outputs": [],
   "source": [
    "def transform_image_plane(T, img_size, f):\n",
    "    '''\n",
    "    Transform the image plane with the given transformation matrix\n",
    "    '''\n",
    "    h, w = img_size\n",
    "    xx, yy = np.meshgrid(range(-(h // 2), w // 2 + 1), range(-(h // 2), w // 2 + 1))\n",
    "    Z = np.ones(shape=img_size) * f\n",
    "    \n",
    "    # extract points from the image plane grid\n",
    "    pi = np.ones(shape=(4, h*w))\n",
    "    c = 0\n",
    "    for i in range(h):\n",
    "        for j in range(w):\n",
    "            x = xx[i, j]\n",
    "            y = yy[i, j]\n",
    "            z = Z[i, j]\n",
    "            point = np.array([x, y, z])\n",
    "            pi[:3, c] = point\n",
    "            c += 1\n",
    "    \n",
    "    pt = np.matmul(T, pi)\n",
    "    \n",
    "    # separate x, y, z and construct a grid from the transformed points\n",
    "    xxt = pt[0, :].reshape(img_size)\n",
    "    yyt = pt[1, :].reshape(img_size)\n",
    "    Zt = pt[2, :].reshape(img_size)\n",
    "    \n",
    "    return xxt, yyt, Zt"
   ]
  },
  {
   "cell_type": "code",
   "execution_count": 7,
   "id": "204bfa97-d245-43d9-93b0-dcfad7001e45",
   "metadata": {},
   "outputs": [],
   "source": [
    "def generate_random_points(n_points, xlim, ylim, zlim):\n",
    "    x = np.random.randint(xlim[0], xlim[1], size=n_points)\n",
    "    y = np.random.randint(ylim[0], ylim[1], size=n_points)\n",
    "    z = np.random.randint(zlim[0], zlim[1], size=n_points)\n",
    "    \n",
    "    return np.vstack((x, y, z))"
   ]
  },
  {
   "cell_type": "code",
   "execution_count": 8,
   "id": "2abedda0-4c1e-4ccf-8b14-b43d7231bc28",
   "metadata": {},
   "outputs": [],
   "source": [
    "def compute_intrinsic_parameter_matrix(f, s, a, cx, cy):\n",
    "    K = np.identity(3)\n",
    "    K[0, 0] = f\n",
    "    K[0, 1] = s\n",
    "    K[0, 2] = cx\n",
    "    K[1, 1] = a * f\n",
    "    K[1, 2] = cy\n",
    "    \n",
    "    return K"
   ]
  },
  {
   "cell_type": "code",
   "execution_count": 9,
   "id": "9244f7b9-cb20-4f75-980b-e65afe8b6663",
   "metadata": {},
   "outputs": [],
   "source": [
    "def compute_world2img_projection(points, E, K):\n",
    "        \n",
    "    P = np.identity(4)[:3, :] # the projection matrix\n",
    "    h_points_i = K @ P @ E @ points\n",
    "    \n",
    "    h_points_i[0, :] = h_points_i[0, :] / h_points_i[2, :]\n",
    "    h_points_i[1, :] = h_points_i[1, :] / h_points_i[2, :]\n",
    "\n",
    "    points_i = h_points_i[:2, :]    \n",
    "    \n",
    "    return points_i"
   ]
  },
  {
   "cell_type": "code",
   "execution_count": 10,
   "id": "ad9dc8ff-a80b-4f30-b398-3b46f9ff64a3",
   "metadata": {},
   "outputs": [],
   "source": [
    "def create_rotation_change_of_basis_matrix(transformation_matrix):\n",
    "    '''\n",
    "    Creates a rotation change of basis matrix\n",
    "    '''\n",
    "    # basis vectors\n",
    "    x = np.array([1, 0, 0])\n",
    "    y = np.array([0, 1, 0])\n",
    "    z = np.array([0, 0, 1])\n",
    "    \n",
    "    xt = transformation_matrix.T @ x.reshape(3, 1)\n",
    "    yt = transformation_matrix.T @ y.reshape(3, 1)\n",
    "    zt = transformation_matrix.T @ z.reshape(3, 1)\n",
    "    \n",
    "    return np.hstack((xt, yt, zt))"
   ]
  },
  {
   "cell_type": "code",
   "execution_count": 11,
   "id": "a5c5c20c-cccd-41e4-8fa2-6b7ef74b361b",
   "metadata": {},
   "outputs": [],
   "source": [
    "make_line = lambda u, v: np.vstack((u, v)).T"
   ]
  },
  {
   "cell_type": "code",
   "execution_count": 12,
   "id": "24749362-e8c2-46e3-b99a-480d8da21079",
   "metadata": {},
   "outputs": [],
   "source": [
    "# create the transformation matrix\n",
    "\n",
    "angles = [np.pi/4]\n",
    "order = 'y'\n",
    "\n",
    "R = create_rotation_transformation_matrix(angles, order)\n",
    "R_ = np.identity(4)\n",
    "R_[:3, :3] = R\n",
    "\n",
    "# create translation matrix\n",
    "offset = np.array([0, -0.5, 0])\n",
    "O = create_translation_matrix(offset)\n",
    "\n",
    "T = np.matmul(R_, O)"
   ]
  },
  {
   "cell_type": "code",
   "execution_count": 13,
   "id": "404f356f-81db-462b-8d17-a20381078eef",
   "metadata": {},
   "outputs": [],
   "source": [
    "f = 2\n",
    "img_size = (10, 10)\n",
    "\n",
    "# basis in homogeneous coordinates\n",
    "xh = np.array([1, 0, 0, 1])\n",
    "yh = np.array([0, 1, 0, 1])\n",
    "zh = np.array([0, 0, 1, 1])\n",
    "origin = np.array([0, 0, 0])\n",
    "\n",
    "# transform the image plane\n",
    "xxt, yyt, Zt = transform_image_plane(T, img_size, f)"
   ]
  },
  {
   "cell_type": "code",
   "execution_count": 14,
   "id": "ff3cb3e0-0032-49cf-9cbb-759a9920efc3",
   "metadata": {},
   "outputs": [],
   "source": [
    "# Generate random points\n",
    "z_ = np.array([0, 0, f, 1]).reshape(4, 1)\n",
    "z_llim = (T @ z_)[2]"
   ]
  },
  {
   "cell_type": "code",
   "execution_count": 15,
   "id": "f6809ee0-c2a7-4511-9d40-a1b0b9edf732",
   "metadata": {},
   "outputs": [],
   "source": [
    "n_points = 12\n",
    "rand_points = generate_random_points(n_points, (-10, 0), (-10, 10), (z_llim, 10))"
   ]
  },
  {
   "cell_type": "code",
   "execution_count": 16,
   "id": "d56f0e79-dc75-4ce5-9b35-4d5ba43c0171",
   "metadata": {},
   "outputs": [],
   "source": [
    "# create extrinsic camera matrix\n",
    "Rc = create_rotation_change_of_basis_matrix(R)\n",
    "E = np.identity(4)\n",
    "E[:3, :3] = Rc\n",
    "E[:3, 3] = -offset"
   ]
  },
  {
   "cell_type": "code",
   "execution_count": 17,
   "id": "a35e5e32-2d09-43e7-b691-4f159b05a6fb",
   "metadata": {},
   "outputs": [],
   "source": [
    "# convert rand points to homogeneous coordinates\n",
    "rand_points_h = np.ones(shape=(4, n_points))\n",
    "for i in range(n_points):\n",
    "    point = rand_points[:, i]\n",
    "    rand_points_h[:3, i] = point"
   ]
  },
  {
   "cell_type": "code",
   "execution_count": 18,
   "id": "c2d4f985-ff96-4ef9-8ad3-6968cc18861f",
   "metadata": {},
   "outputs": [],
   "source": [
    "K = compute_intrinsic_parameter_matrix(f, 0, 1, 0, 0)"
   ]
  },
  {
   "cell_type": "code",
   "execution_count": 19,
   "id": "f5a32e78-95b6-42c2-9f5d-03c67d2ec7b7",
   "metadata": {},
   "outputs": [],
   "source": [
    "projections = compute_world2img_projection(rand_points_h, E, K)"
   ]
  },
  {
   "cell_type": "code",
   "execution_count": 20,
   "id": "75b69fe9-33d1-487c-9b00-1e0bc9814369",
   "metadata": {},
   "outputs": [
    {
     "data": {
      "text/plain": [
       "array([[-0.28571429,  0.        ,  0.28571429,  0.4       , -0.28571429,\n",
       "         1.33333333, -0.90909091,  0.54545455,  0.5       ,  0.4       ,\n",
       "         0.        , -0.4       ],\n",
       "       [-3.03045763, -1.71725933,  0.60609153, -0.84852814, -3.43451865,\n",
       "        -4.47834295,  0.38569461,  0.38569461,  2.29809704, -0.0942809 ,\n",
       "         1.1111678 ,  2.54558441]])"
      ]
     },
     "execution_count": 20,
     "metadata": {},
     "output_type": "execute_result"
    }
   ],
   "source": [
    "projections"
   ]
  },
  {
   "cell_type": "code",
   "execution_count": 21,
   "id": "2add0a83-7150-4bec-b69a-3e8aacf4c0b7",
   "metadata": {},
   "outputs": [
    {
     "data": {
      "text/plain": [
       "<matplotlib.legend.Legend at 0x21381fb5640>"
      ]
     },
     "execution_count": 21,
     "metadata": {},
     "output_type": "execute_result"
    },
    {
     "data": {
      "application/vnd.jupyter.widget-view+json": {
       "model_id": "88a99baa04ae4b9cbff7a1aa4dab5263",
       "version_major": 2,
       "version_minor": 0
      },
      "image/png": "[encoded data removed]",
      "text/plain": [
       "Canvas(toolbar=Toolbar(toolitems=[('Home', 'Reset original view', 'home', 'home'), ('Back', 'Back to previous …"
      ]
     },
     "metadata": {},
     "output_type": "display_data"
    }
   ],
   "source": [
    "# plot the transformed camera and image plane\n",
    "\n",
    "# create figure\n",
    "fig = plt.figure(figsize=(6, 4))\n",
    "ax = fig.add_subplot(111,projection='3d')\n",
    "\n",
    "# set axis limits\n",
    "ax.set(xlim=(-10, 0), ylim=(-10, 10), zlim=(0, 10))\n",
    "\n",
    "# plot the transformed basis using the library\n",
    "ax = pr.plot_basis(ax, R, p=offset)\n",
    "\n",
    "# plot the image plane\n",
    "ax.plot_surface(xxt, yyt, Zt, alpha=0.75)\n",
    "\n",
    "# transform the basis points using the transformation matrix\n",
    "xt = T @ xh.reshape(4, 1)\n",
    "yt = T @ yh.reshape(4, 1)\n",
    "zt = T @ zh.reshape(4, 1)\n",
    "\n",
    "ax.scatter(*xt.flatten()[:3], label=\"transformed X\", color=\"red\")\n",
    "ax.scatter(*yt.flatten()[:3], label=\"transformed Y\", color=\"green\")\n",
    "ax.scatter(*zt.flatten()[:3], label=\"transformed Z\", color=\"blue\")\n",
    "\n",
    "# plot points\n",
    "for i in range(n_points):\n",
    "    point = rand_points[:, i]\n",
    "    ax.scatter(*point, color=\"orange\")\n",
    "    ax.plot(*make_line(origin, point), color=\"purple\", alpha=0.25)\n",
    "\n",
    "# set labels\n",
    "ax.set_title(\"Camera Transformation\")\n",
    "ax.set_xlabel(\"X-axis\")\n",
    "ax.set_ylabel(\"Y-axis\")\n",
    "ax.set_zlabel(\"Z-axis\")\n",
    "\n",
    "plt.legend()"
   ]
  },
  {
   "cell_type": "code",
   "execution_count": 22,
   "id": "650d247c-70a9-40e9-807a-58941246277e",
   "metadata": {},
   "outputs": [
    {
     "data": {
      "text/plain": [
       "array([[-0.28571429,  0.        ,  0.28571429,  0.4       , -0.28571429,\n",
       "         1.33333333, -0.90909091,  0.54545455,  0.5       ,  0.4       ,\n",
       "         0.        , -0.4       ],\n",
       "       [-3.03045763, -1.71725933,  0.60609153, -0.84852814, -3.43451865,\n",
       "        -4.47834295,  0.38569461,  0.38569461,  2.29809704, -0.0942809 ,\n",
       "         1.1111678 ,  2.54558441]])"
      ]
     },
     "execution_count": 22,
     "metadata": {},
     "output_type": "execute_result"
    }
   ],
   "source": [
    "projections"
   ]
  },
  {
   "cell_type": "code",
   "execution_count": 23,
   "id": "159973ff-c1d6-4c19-a1c2-95641aafbff9",
   "metadata": {},
   "outputs": [
    {
     "data": {
      "application/vnd.jupyter.widget-view+json": {
       "model_id": "8be6bce3c1244426bfb5f53c01c95c13",
       "version_major": 2,
       "version_minor": 0
      },
      "image/png": "[encoded data removed]",
      "text/plain": [
       "Canvas(toolbar=Toolbar(toolitems=[('Home', 'Reset original view', 'home', 'home'), ('Back', 'Back to previous …"
      ]
     },
     "metadata": {},
     "output_type": "display_data"
    }
   ],
   "source": [
    "fig = plt.figure(figsize=(6, 4))\n",
    "ax = fig.add_subplot(111)\n",
    "\n",
    "h, w = img_size\n",
    "ax.set(xlim = (-(h // 2), w // 2), ylim = (-(h // 2), w // 2))\n",
    "for i in range(n_points):\n",
    "        ax.scatter(*projections[:, i], color=\"orange\")"
   ]
  },
  {
   "cell_type": "code",
   "execution_count": 24,
   "id": "2ee7ef3c-9e54-4ff9-b72b-fdedcfd4eec7",
   "metadata": {},
   "outputs": [
    {
     "data": {
      "text/plain": [
       "((3, 12), (2, 12))"
      ]
     },
     "execution_count": 24,
     "metadata": {},
     "output_type": "execute_result"
    }
   ],
   "source": [
    "rand_points.shape, projections.shape"
   ]
  },
  {
   "cell_type": "code",
   "execution_count": 25,
   "id": "4ea72da7-6f65-47b4-b191-d1199aab9e74",
   "metadata": {},
   "outputs": [],
   "source": [
    "P = np.identity(4)[:3, :] # the projection matrix\n",
    "M = K @ P @ E"
   ]
  },
  {
   "cell_type": "code",
   "execution_count": 26,
   "id": "8c3f584d-e504-4194-bb11-9394950eb8fc",
   "metadata": {},
   "outputs": [
    {
     "data": {
      "text/plain": [
       "array([[ 1.41421356,  0.        ,  1.41421356,  0.        ],\n",
       "       [ 0.        ,  2.        ,  0.        ,  1.        ],\n",
       "       [-0.70710678,  0.        ,  0.70710678,  0.        ]])"
      ]
     },
     "execution_count": 26,
     "metadata": {},
     "output_type": "execute_result"
    }
   ],
   "source": [
    "M"
   ]
  },
  {
   "cell_type": "code",
   "execution_count": 27,
   "id": "f2528663-d638-494d-ba38-6ec8b21e8bc0",
   "metadata": {},
   "outputs": [],
   "source": [
    "def create_algebraic_matrix(world_point, projection_point):\n",
    "    X, Y, Z = world_point\n",
    "    u, v = projection_point\n",
    "    rows = np.zeros(shape=(2, 12))\n",
    "    \n",
    "    rows[0, 0], rows[0, 1], rows[0, 2], rows[0, 3] = X, Y, Z, 1\n",
    "    rows[0, 8], rows[0, 9], rows[0, 10], rows[0, 11] = -u * X, -u * Y, -u * Z, -u\n",
    "    \n",
    "    rows[1, 4], rows[1, 5], rows[1, 6], rows[1, 7] = X, Y, Z, 1\n",
    "    rows[1, 8], rows[1, 9], rows[1, 10], rows[1, 11] = -v * X, -v * Y, -v * Z, -v\n",
    "    \n",
    "    return rows"
   ]
  },
  {
   "cell_type": "code",
   "execution_count": 28,
   "id": "8bea96b3-bc8a-4a04-961c-e2d71a19d402",
   "metadata": {},
   "outputs": [],
   "source": [
    "A = np.ones(shape=(2*n_points, 12))"
   ]
  },
  {
   "cell_type": "code",
   "execution_count": 29,
   "id": "3808210d-6382-45cf-99f1-8c1dca01e38c",
   "metadata": {},
   "outputs": [],
   "source": [
    "c = 0\n",
    "for i in range(n_points):\n",
    "    w = rand_points[:, i]\n",
    "    p = projections[:, i]\n",
    "    A[c:c+2, :] = create_algebraic_matrix(w, p)\n",
    "    c += 2"
   ]
  },
  {
   "cell_type": "code",
   "execution_count": 30,
   "id": "e82917cb-bcde-45d9-b8c9-ec85b4fd0153",
   "metadata": {},
   "outputs": [
    {
     "data": {
      "text/plain": [
       "(24, 12)"
      ]
     },
     "execution_count": 30,
     "metadata": {},
     "output_type": "execute_result"
    }
   ],
   "source": [
    "A.shape"
   ]
  },
  {
   "cell_type": "code",
   "execution_count": 31,
   "id": "7654dfd4-f90e-44ef-8b59-874e3ccbbc2e",
   "metadata": {},
   "outputs": [],
   "source": [
    "V = np.matmul(A.T, A)"
   ]
  },
  {
   "cell_type": "code",
   "execution_count": 32,
   "id": "d788b56d-1512-45d5-8733-bc61230e6060",
   "metadata": {},
   "outputs": [
    {
     "data": {
      "text/plain": [
       "(12, 12)"
      ]
     },
     "execution_count": 32,
     "metadata": {},
     "output_type": "execute_result"
    }
   ],
   "source": [
    "V.shape"
   ]
  },
  {
   "cell_type": "code",
   "execution_count": 33,
   "id": "25dbdb48-1ddc-475c-8cc4-011d4c3f5343",
   "metadata": {},
   "outputs": [],
   "source": [
    "w, v = np.linalg.eig(V)"
   ]
  },
  {
   "cell_type": "code",
   "execution_count": 34,
   "id": "6a798983-ecdf-4b37-8e28-b70e87ae5b3a",
   "metadata": {},
   "outputs": [],
   "source": [
    "m = v[:, 11]"
   ]
  },
  {
   "cell_type": "code",
   "execution_count": 35,
   "id": "245660aa-3f9b-4a92-bbd4-cf388b8c041e",
   "metadata": {},
   "outputs": [
    {
     "data": {
      "text/plain": [
       "array([ 0.15130928, -0.0041094 ,  0.1409516 ,  0.04735786, -0.09241255,\n",
       "        0.20945429,  0.05869871, -0.93729794, -0.07962174, -0.02476708,\n",
       "        0.06896977, -0.0942576 ])"
      ]
     },
     "execution_count": 35,
     "metadata": {},
     "output_type": "execute_result"
    }
   ],
   "source": [
    "m"
   ]
  },
  {
   "cell_type": "code",
   "execution_count": 68,
   "id": "52c087e8-449d-4bc1-8c26-8ff0fcb6fa0c",
   "metadata": {},
   "outputs": [],
   "source": [
    "M_ = m.reshape(3, 4)"
   ]
  },
  {
   "cell_type": "code",
   "execution_count": 75,
   "id": "0a5b3d2d-55e8-4674-9188-8edeb3bf0f3a",
   "metadata": {},
   "outputs": [],
   "source": [
    "predictions = np.matmul(M_, rand_points_h)"
   ]
  },
  {
   "cell_type": "code",
   "execution_count": 76,
   "id": "d61e536b-b518-48f7-91e3-9701ed47eddc",
   "metadata": {},
   "outputs": [],
   "source": [
    "predictions[0, :] = predictions[0, :] / predictions[2, :]\n",
    "predictions[1, :] = predictions[1, :] / predictions[2, :]\n",
    "\n",
    "predictions = predictions[:2, :]  "
   ]
  },
  {
   "cell_type": "code",
   "execution_count": 77,
   "id": "6bf71734-1955-4b76-a1b8-0a8c13b91a81",
   "metadata": {},
   "outputs": [
    {
     "data": {
      "application/vnd.jupyter.widget-view+json": {
       "model_id": "e5afa7169ce1490089329f768055889b",
       "version_major": 2,
       "version_minor": 0
      },
      "image/png": "[encoded data removed]",
      "text/plain": [
       "Canvas(toolbar=Toolbar(toolitems=[('Home', 'Reset original view', 'home', 'home'), ('Back', 'Back to previous …"
      ]
     },
     "metadata": {},
     "output_type": "display_data"
    }
   ],
   "source": [
    "fig = plt.figure(figsize=(6, 4))\n",
    "ax = fig.add_subplot(111)\n",
    "\n",
    "h, w = img_size\n",
    "ax.set(xlim = (-(h // 2), w // 2), ylim = (-(h // 2), w // 2))\n",
    "for i in range(n_points):\n",
    "        ax.scatter(*projections[:, i], color=\"orange\")\n",
    "        ax.scatter(*predictions[:, i], color=\"green\")"
   ]
  },
  {
   "cell_type": "code",
   "execution_count": 64,
   "id": "9096f9cc-c420-4254-b75e-ef3031b2ce8d",
   "metadata": {},
   "outputs": [
    {
     "data": {
      "text/plain": [
       "array([[-0.28571429,  0.        ,  0.28571429,  0.4       , -0.28571429,\n",
       "         1.33333333, -0.90909091,  0.54545455,  0.5       ,  0.4       ,\n",
       "         0.        , -0.4       ],\n",
       "       [-3.03045763, -1.71725933,  0.60609153, -0.84852814, -3.43451865,\n",
       "        -4.47834295,  0.38569461,  0.38569461,  2.29809704, -0.0942809 ,\n",
       "         1.1111678 ,  2.54558441]])"
      ]
     },
     "execution_count": 64,
     "metadata": {},
     "output_type": "execute_result"
    }
   ],
   "source": [
    "projections"
   ]
  },
  {
   "cell_type": "code",
   "execution_count": 65,
   "id": "10dfe31f-4e69-46a1-8974-cbe5be748909",
   "metadata": {},
   "outputs": [
    {
     "data": {
      "text/plain": [
       "array([[-2.85684888e-01,  5.84402232e-07,  2.85726794e-01,\n",
       "         3.99999151e-01, -2.85683477e-01,  1.33333285e+00,\n",
       "        -9.09090246e-01,  5.45457763e-01,  5.00007155e-01,\n",
       "         3.99998299e-01, -6.50927062e-06, -3.99969230e-01],\n",
       "       [-3.03044118e+00, -1.71725502e+00,  6.06058253e-01,\n",
       "        -8.48521536e-01, -3.43449095e+00, -4.47829735e+00,\n",
       "         3.85696944e-01,  3.85698152e-01,  2.29809574e+00,\n",
       "        -9.42670722e-02,  1.11119597e+00,  2.54549324e+00]])"
      ]
     },
     "execution_count": 65,
     "metadata": {},
     "output_type": "execute_result"
    }
   ],
   "source": [
    "predictions"
   ]
  },
  {
   "cell_type": "code",
   "execution_count": 66,
   "id": "b108c642-e4dc-4a7d-af77-8bcafcb7b05c",
   "metadata": {},
   "outputs": [
    {
     "data": {
      "text/plain": [
       "array([[ 1.41421356,  0.        ,  1.41421356,  0.        ],\n",
       "       [ 0.        ,  2.        ,  0.        ,  1.        ],\n",
       "       [-0.70710678,  0.        ,  0.70710678,  0.        ]])"
      ]
     },
     "execution_count": 66,
     "metadata": {},
     "output_type": "execute_result"
    }
   ],
   "source": [
    "M"
   ]
  },
  {
   "cell_type": "code",
   "execution_count": 67,
   "id": "4cdf28c2-6da5-48a9-ae52-147e7349b8bc",
   "metadata": {},
   "outputs": [
    {
     "data": {
      "text/plain": [
       "array([[ 1.40140443e-01, -4.97045077e-07,  1.40137177e-01,\n",
       "         1.89599142e-05],\n",
       "       [-4.02563547e-06,  1.98187154e-01,  3.90777294e-06,\n",
       "         9.90500305e-02],\n",
       "       [-7.00683948e-02, -6.82876608e-07,  7.00674854e-02,\n",
       "         1.45327642e-05]])"
      ]
     },
     "execution_count": 67,
     "metadata": {},
     "output_type": "execute_result"
    }
   ],
   "source": [
    "M__"
   ]
  },
  {
   "cell_type": "code",
   "execution_count": null,
   "id": "92b1d8e1-ce82-43b1-8440-255659d5b5da",
   "metadata": {},
   "outputs": [],
   "source": []
  },
  {
   "cell_type": "code",
   "execution_count": null,
   "id": "701afa09-cbba-47b6-9c36-cac7740b41ae",
   "metadata": {},
   "outputs": [],
   "source": []
  },
  {
   "cell_type": "code",
   "execution_count": null,
   "id": "db673b13-529d-449a-9052-fded94d03c0d",
   "metadata": {},
   "outputs": [],
   "source": []
  },
  {
   "cell_type": "code",
   "execution_count": null,
   "id": "3991b2ee-7b43-4ccc-b991-7e9b08bb6e6e",
   "metadata": {},
   "outputs": [],
   "source": []
  },
  {
   "cell_type": "code",
   "execution_count": 51,
   "id": "dbbfe9f8-a57a-4773-93b9-98fd426d9c5a",
   "metadata": {},
   "outputs": [],
   "source": [
    "def geometric_error(m):\n",
    "#     n_points = kwargs.get(\"n_points\")\n",
    "#     world_points = kwargs.get(\"world_points\")\n",
    "#     projections = kwargs.get(\"projections\")\n",
    "#     m_ = np.ones(12)\n",
    "    error = 0\n",
    "    for i in range(n_points):\n",
    "        X, Y, Z = rand_points[:, i]\n",
    "        u, v = projections[:, i]\n",
    "        u_ = m[0] * X + m[1] * Y + m[2] * Z + m[3]\n",
    "        v_ = m[4] * X + m[5] * Y + m[6] * Z + m[7]\n",
    "        d = m[8] * X + m[9] * Y + m[10] * Z + m[11] \n",
    "        u_ = u_/d\n",
    "        v_ = v_/d\n",
    "        error += np.sqrt(np.square(u - u_) + np.square(v - v_))\n",
    "    return error\n",
    "        "
   ]
  },
  {
   "cell_type": "code",
   "execution_count": 52,
   "id": "655158a3-8b3c-41a2-a11d-aa1570061ba1",
   "metadata": {},
   "outputs": [],
   "source": [
    "from scipy.optimize import least_squares, minimize"
   ]
  },
  {
   "cell_type": "code",
   "execution_count": 53,
   "id": "21e18455-6a73-410a-91b7-c470d3d8caf1",
   "metadata": {},
   "outputs": [],
   "source": [
    "arg_dict={\"n_points\": n_points, \"world_points\": rand_points, \"projections\": projections}"
   ]
  },
  {
   "cell_type": "code",
   "execution_count": 54,
   "id": "3451c4a1-0483-4ca3-bab4-e4e59ee066c2",
   "metadata": {},
   "outputs": [
    {
     "ename": "TypeError",
     "evalue": "geometric_error() got an unexpected keyword argument 'n_points'",
     "output_type": "error",
     "traceback": [
      "\u001b[1;31m---------------------------------------------------------------------------\u001b[0m",
      "\u001b[1;31mTypeError\u001b[0m                                 Traceback (most recent call last)",
      "\u001b[1;32m<ipython-input-54-267d769897d4>\u001b[0m in \u001b[0;36m<module>\u001b[1;34m\u001b[0m\n\u001b[1;32m----> 1\u001b[1;33m \u001b[0mgeometric_error\u001b[0m\u001b[1;33m(\u001b[0m\u001b[0mm\u001b[0m\u001b[1;33m,\u001b[0m \u001b[0mn_points\u001b[0m\u001b[1;33m=\u001b[0m\u001b[0mn_points\u001b[0m\u001b[1;33m,\u001b[0m \u001b[0mworld_points\u001b[0m\u001b[1;33m=\u001b[0m\u001b[0mrand_points\u001b[0m\u001b[1;33m,\u001b[0m \u001b[0mprojections\u001b[0m\u001b[1;33m=\u001b[0m\u001b[0mprojections\u001b[0m\u001b[1;33m)\u001b[0m\u001b[1;33m\u001b[0m\u001b[1;33m\u001b[0m\u001b[0m\n\u001b[0m",
      "\u001b[1;31mTypeError\u001b[0m: geometric_error() got an unexpected keyword argument 'n_points'"
     ]
    }
   ],
   "source": [
    "geometric_error(m, n_points=n_points, world_points=rand_points, projections=projections)"
   ]
  },
  {
   "cell_type": "code",
   "execution_count": 55,
   "id": "206ee05d-2bc8-4849-a40e-b33d7d7b0e28",
   "metadata": {},
   "outputs": [
    {
     "ename": "TypeError",
     "evalue": "geometric_error() got an unexpected keyword argument 'n_points'",
     "output_type": "error",
     "traceback": [
      "\u001b[1;31m---------------------------------------------------------------------------\u001b[0m",
      "\u001b[1;31mTypeError\u001b[0m                                 Traceback (most recent call last)",
      "\u001b[1;32m<ipython-input-55-62278c0544ca>\u001b[0m in \u001b[0;36m<module>\u001b[1;34m\u001b[0m\n\u001b[1;32m----> 1\u001b[1;33m \u001b[0mresult\u001b[0m \u001b[1;33m=\u001b[0m \u001b[0mleast_squares\u001b[0m\u001b[1;33m(\u001b[0m\u001b[0mgeometric_error\u001b[0m\u001b[1;33m,\u001b[0m \u001b[0mm\u001b[0m\u001b[1;33m,\u001b[0m \u001b[0mmethod\u001b[0m\u001b[1;33m=\u001b[0m\u001b[1;34m'lm'\u001b[0m\u001b[1;33m,\u001b[0m \u001b[0mkwargs\u001b[0m\u001b[1;33m=\u001b[0m\u001b[0marg_dict\u001b[0m\u001b[1;33m)\u001b[0m\u001b[1;33m\u001b[0m\u001b[1;33m\u001b[0m\u001b[0m\n\u001b[0m",
      "\u001b[1;32mH:\\anaconda\\lib\\site-packages\\scipy\\optimize\\_lsq\\least_squares.py\u001b[0m in \u001b[0;36mleast_squares\u001b[1;34m(fun, x0, jac, bounds, method, ftol, xtol, gtol, x_scale, loss, f_scale, diff_step, tr_solver, tr_options, jac_sparsity, max_nfev, verbose, args, kwargs)\u001b[0m\n\u001b[0;32m    815\u001b[0m         \u001b[0mx0\u001b[0m \u001b[1;33m=\u001b[0m \u001b[0mmake_strictly_feasible\u001b[0m\u001b[1;33m(\u001b[0m\u001b[0mx0\u001b[0m\u001b[1;33m,\u001b[0m \u001b[0mlb\u001b[0m\u001b[1;33m,\u001b[0m \u001b[0mub\u001b[0m\u001b[1;33m)\u001b[0m\u001b[1;33m\u001b[0m\u001b[1;33m\u001b[0m\u001b[0m\n\u001b[0;32m    816\u001b[0m \u001b[1;33m\u001b[0m\u001b[0m\n\u001b[1;32m--> 817\u001b[1;33m     \u001b[0mf0\u001b[0m \u001b[1;33m=\u001b[0m \u001b[0mfun_wrapped\u001b[0m\u001b[1;33m(\u001b[0m\u001b[0mx0\u001b[0m\u001b[1;33m)\u001b[0m\u001b[1;33m\u001b[0m\u001b[1;33m\u001b[0m\u001b[0m\n\u001b[0m\u001b[0;32m    818\u001b[0m \u001b[1;33m\u001b[0m\u001b[0m\n\u001b[0;32m    819\u001b[0m     \u001b[1;32mif\u001b[0m \u001b[0mf0\u001b[0m\u001b[1;33m.\u001b[0m\u001b[0mndim\u001b[0m \u001b[1;33m!=\u001b[0m \u001b[1;36m1\u001b[0m\u001b[1;33m:\u001b[0m\u001b[1;33m\u001b[0m\u001b[1;33m\u001b[0m\u001b[0m\n",
      "\u001b[1;32mH:\\anaconda\\lib\\site-packages\\scipy\\optimize\\_lsq\\least_squares.py\u001b[0m in \u001b[0;36mfun_wrapped\u001b[1;34m(x)\u001b[0m\n\u001b[0;32m    810\u001b[0m \u001b[1;33m\u001b[0m\u001b[0m\n\u001b[0;32m    811\u001b[0m     \u001b[1;32mdef\u001b[0m \u001b[0mfun_wrapped\u001b[0m\u001b[1;33m(\u001b[0m\u001b[0mx\u001b[0m\u001b[1;33m)\u001b[0m\u001b[1;33m:\u001b[0m\u001b[1;33m\u001b[0m\u001b[1;33m\u001b[0m\u001b[0m\n\u001b[1;32m--> 812\u001b[1;33m         \u001b[1;32mreturn\u001b[0m \u001b[0mnp\u001b[0m\u001b[1;33m.\u001b[0m\u001b[0matleast_1d\u001b[0m\u001b[1;33m(\u001b[0m\u001b[0mfun\u001b[0m\u001b[1;33m(\u001b[0m\u001b[0mx\u001b[0m\u001b[1;33m,\u001b[0m \u001b[1;33m*\u001b[0m\u001b[0margs\u001b[0m\u001b[1;33m,\u001b[0m \u001b[1;33m**\u001b[0m\u001b[0mkwargs\u001b[0m\u001b[1;33m)\u001b[0m\u001b[1;33m)\u001b[0m\u001b[1;33m\u001b[0m\u001b[1;33m\u001b[0m\u001b[0m\n\u001b[0m\u001b[0;32m    813\u001b[0m \u001b[1;33m\u001b[0m\u001b[0m\n\u001b[0;32m    814\u001b[0m     \u001b[1;32mif\u001b[0m \u001b[0mmethod\u001b[0m \u001b[1;33m==\u001b[0m \u001b[1;34m'trf'\u001b[0m\u001b[1;33m:\u001b[0m\u001b[1;33m\u001b[0m\u001b[1;33m\u001b[0m\u001b[0m\n",
      "\u001b[1;31mTypeError\u001b[0m: geometric_error() got an unexpected keyword argument 'n_points'"
     ]
    }
   ],
   "source": [
    "result = least_squares(geometric_error, m, method='lm', kwargs=arg_dict)"
   ]
  },
  {
   "cell_type": "code",
   "execution_count": 56,
   "id": "c4a11bfa-f9fc-413a-b3fd-225642fbde47",
   "metadata": {},
   "outputs": [
    {
     "ename": "NameError",
     "evalue": "name 'result' is not defined",
     "output_type": "error",
     "traceback": [
      "\u001b[1;31m---------------------------------------------------------------------------\u001b[0m",
      "\u001b[1;31mNameError\u001b[0m                                 Traceback (most recent call last)",
      "\u001b[1;32m<ipython-input-56-79acb06912d1>\u001b[0m in \u001b[0;36m<module>\u001b[1;34m\u001b[0m\n\u001b[1;32m----> 1\u001b[1;33m \u001b[0mresult\u001b[0m\u001b[1;33m.\u001b[0m\u001b[0mx\u001b[0m\u001b[1;33m\u001b[0m\u001b[1;33m\u001b[0m\u001b[0m\n\u001b[0m",
      "\u001b[1;31mNameError\u001b[0m: name 'result' is not defined"
     ]
    }
   ],
   "source": [
    "result.x"
   ]
  },
  {
   "cell_type": "code",
   "execution_count": 57,
   "id": "88668c3e-4baa-41a6-a495-b29ede6af460",
   "metadata": {},
   "outputs": [
    {
     "ename": "NameError",
     "evalue": "name 'result' is not defined",
     "output_type": "error",
     "traceback": [
      "\u001b[1;31m---------------------------------------------------------------------------\u001b[0m",
      "\u001b[1;31mNameError\u001b[0m                                 Traceback (most recent call last)",
      "\u001b[1;32m<ipython-input-57-3244888b1d23>\u001b[0m in \u001b[0;36m<module>\u001b[1;34m\u001b[0m\n\u001b[1;32m----> 1\u001b[1;33m \u001b[0mresult\u001b[0m\u001b[1;33m.\u001b[0m\u001b[0mcost\u001b[0m\u001b[1;33m\u001b[0m\u001b[1;33m\u001b[0m\u001b[0m\n\u001b[0m",
      "\u001b[1;31mNameError\u001b[0m: name 'result' is not defined"
     ]
    }
   ],
   "source": [
    "result.cost"
   ]
  },
  {
   "cell_type": "code",
   "execution_count": 58,
   "id": "b0eb3e39-8868-405d-ac47-8533a29556f0",
   "metadata": {},
   "outputs": [
    {
     "data": {
      "text/plain": [
       "0.3443455700121499"
      ]
     },
     "execution_count": 58,
     "metadata": {},
     "output_type": "execute_result"
    }
   ],
   "source": [
    "result.optimality"
   ]
  },
  {
   "cell_type": "code",
   "execution_count": 57,
   "id": "d5d96a68-04bb-4e3e-afd9-6a7f88b788b9",
   "metadata": {},
   "outputs": [
    {
     "data": {
      "text/plain": [
       "0"
      ]
     },
     "execution_count": 57,
     "metadata": {},
     "output_type": "execute_result"
    }
   ],
   "source": [
    "result.status"
   ]
  },
  {
   "cell_type": "code",
   "execution_count": 58,
   "id": "0ac728d3-484c-438b-b76f-9752648ca2e1",
   "metadata": {},
   "outputs": [],
   "source": [
    "result = minimize(geometric_error, m)"
   ]
  },
  {
   "cell_type": "code",
   "execution_count": 59,
   "id": "862acdfb-2c19-4f89-a681-aedc23ce3b9a",
   "metadata": {},
   "outputs": [],
   "source": [
    "M__ = result.x"
   ]
  },
  {
   "cell_type": "code",
   "execution_count": 60,
   "id": "bd14e458-be50-4935-b925-3f8a0da94740",
   "metadata": {},
   "outputs": [],
   "source": [
    "M__ = M__.reshape(3, 4)"
   ]
  },
  {
   "cell_type": "code",
   "execution_count": 77,
   "id": "86a9ff32-f8da-4aba-bf54-2c609a21e43a",
   "metadata": {},
   "outputs": [
    {
     "data": {
      "text/plain": [
       "array([[ 1.41421356,  0.        ,  1.41421356,  0.        ],\n",
       "       [ 0.        ,  2.        ,  0.        ,  1.        ],\n",
       "       [-0.70710678,  0.        ,  0.70710678,  0.        ]])"
      ]
     },
     "execution_count": 77,
     "metadata": {},
     "output_type": "execute_result"
    }
   ],
   "source": [
    "M"
   ]
  },
  {
   "cell_type": "code",
   "execution_count": 78,
   "id": "8004f8dd-ef28-46d4-a9df-f2be0ce2beeb",
   "metadata": {},
   "outputs": [
    {
     "data": {
      "text/plain": [
       "array([[ 1.40140443e+00, -4.97045077e-06,  1.40137177e+00,\n",
       "         1.89599142e-04],\n",
       "       [-4.02563547e-05,  1.98187154e+00,  3.90777294e-05,\n",
       "         9.90500305e-01],\n",
       "       [-7.00683948e-01, -6.82876608e-06,  7.00674854e-01,\n",
       "         1.45327642e-04]])"
      ]
     },
     "execution_count": 78,
     "metadata": {},
     "output_type": "execute_result"
    }
   ],
   "source": [
    "M__\n"
   ]
  },
  {
   "cell_type": "code",
   "execution_count": null,
   "id": "cf747531-f16e-45fd-ac1e-72dd5be71a05",
   "metadata": {},
   "outputs": [],
   "source": []
  }
 ],
 "metadata": {
  "kernelspec": {
   "display_name": "Python 3",
   "language": "python",
   "name": "python3"
  },
  "language_info": {
   "codemirror_mode": {
    "name": "ipython",
    "version": 3
   },
   "file_extension": ".py",
   "mimetype": "text/x-python",
   "name": "python",
   "nbconvert_exporter": "python",
   "pygments_lexer": "ipython3",
   "version": "3.8.8"
  }
 },
 "nbformat": 4,
 "nbformat_minor": 5
}
